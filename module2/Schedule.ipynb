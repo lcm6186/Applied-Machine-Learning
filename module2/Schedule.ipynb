{
 "cells": [
  {
   "cell_type": "markdown",
   "metadata": {},
   "source": [
    "# 2 \n",
    "# Supervised Learning: Classification & Regression"
   ]
  },
  {
   "cell_type": "markdown",
   "metadata": {},
   "source": [
    "## Module Topics\n",
    "### Machine Learning Overview\n",
    "  * Cross-Validation\n",
    "  * Supervised Learning: Classification\n",
    "    - Naive Bayes\n",
    "    - Logistic Regression\n",
    "  * Supervised Learning: Regression\n",
    "    - Linear Regression\n",
    "  \n"
   ]
  },
  {
   "cell_type": "markdown",
   "metadata": {},
   "source": [
    "## Readings\n",
    "\n",
    "* Cross Validation [[video](https://www.youtube.com/watch?v=h6tYzGrFMRM)]\n",
    "* Classification:\n",
    "    * Naïve Bayes classifiers [[slides](./slides/naive-bayes.pdf)]\n",
    "* Regression: \n",
    "    * Linear + Ridge + Logistic Regression [[slides](./slides/regression-overview.pdf)]\n",
    "* ML workflow [[video](https://www.youtube.com/watch?v=UUb3rlmk9Wg)]\n",
    "\n",
    "\n",
    "## Readings (Optional)\n",
    "\n",
    "* Cross Validation\n",
    "  * http://scikit-learn.org/stable/modules/cross_validation.html\n",
    "  * [Cross-Validation as a practicioner](https://robjhyndman.com/hyndsight/crossvalidation/)\n",
    "\n",
    "* ML Workflow\n",
    "  * [Someone asked the right question!](https://www.quora.com/How-does-one-operationalize-a-machine-learning-ranking-system-from-an-organization-and-an-engineering-management-point-of-view-How-do-organizations-make-sure-that-theyre-running-smoothly-and-improving-How-are-goals-defined-and-by-whom) Please read the response to the post by **_Brandon Ballinger, applied ML to fraud, speech recognition, and ads_**\n",
    "  * [A \"Kaggle Grand Master\" take on the ML workflow](https://www.linkedin.com/pulse/approaching-almost-any-machine-learning-problem-abhishek-thakur/) (He wrote a book on this [book](./resources/AAAMLP.pdf))\n",
    "\n",
    " "
   ]
  },
  {
   "cell_type": "markdown",
   "metadata": {},
   "source": [
    "## Labs\n",
    "\n",
    "The goal of the labs this module are to refresh you on some basic machine learning you have seen before.\n",
    "The labs are using the Python Scikit-Learn package and some simple ML examples.\n",
    "\n",
    "* [Data Processing: Standardiation and normalization](./labs/Preprocessing.ipynb)\n",
    "* Model Selection \n",
    "  * [Cross-Validation](./labs/CrossValidation.ipynb)\n",
    "  * [Train Validate Test](./labs/TrainValidateTest.ipynb)\n",
    "* Classifications\n",
    "  * [Naive Bayes Classifier vs Logistic Regression](./labs/NBC-and-Logit.ipynb)\n",
    "* Regression\n",
    "  * [Regression Baselines](./labs/Baseline-Regressor.ipynb)\n",
    "  * [Linear Regression vs Ridge Regression](./labs/Linear-and-Ridge-Regression.ipynb)"
   ]
  },
  {
   "cell_type": "markdown",
   "metadata": {},
   "source": [
    "## Practices\n",
    "\n",
    "  * [Cross-Validation](./practices/CrossValidation.ipynb)\n",
    "  * [Train-Validate-Test](./practices/TrainValidateTest.ipynb)\n"
   ]
  },
  {
   "cell_type": "markdown",
   "metadata": {},
   "source": [
    "## Exercises\n",
    "\n",
    "  * [ML Training and Validation and Testing](./exercises/TrainValTrainTest.ipynb)\n"
   ]
  },
  {
   "cell_type": "markdown",
   "metadata": {},
   "source": [
    "## Submitting your work\n",
    "\n",
    "#### Steps:\n",
    "  1. Open Terminal in JupyterHub\n",
    "  1. Change into the course folder\n",
    "  1. Stage (Git Add) the module's practive and exercise work   \n",
    "  `git  add   module2/practices    module2/exercises`\n",
    "  1. Create your work snapshot (Git Commit)  \n",
    "  `git   commit   -m   \"Module 2 submission\"`\n",
    "  1. Upload the snapshot to the server (Git Push)  \n",
    "  `git   push`\n"
   ]
  },
  {
   "cell_type": "markdown",
   "metadata": {},
   "source": [
    "## Congratulations, you have completed the learning activities for this module!"
   ]
  }
 ],
 "metadata": {
  "kernelspec": {
   "display_name": "Python 3",
   "language": "python",
   "name": "python3"
  },
  "language_info": {
   "codemirror_mode": {
    "name": "ipython",
    "version": 3
   },
   "file_extension": ".py",
   "mimetype": "text/x-python",
   "name": "python",
   "nbconvert_exporter": "python",
   "pygments_lexer": "ipython3",
   "version": "3.7.3"
  }
 },
 "nbformat": 4,
 "nbformat_minor": 4
}
