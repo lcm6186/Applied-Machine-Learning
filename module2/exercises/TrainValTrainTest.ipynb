{
 "cells": [
  {
   "cell_type": "markdown",
   "metadata": {},
   "source": [
    "# Train, Validate $\\rightarrow$ Train, Test\n",
    "\n",
    "In this exercise, you will perform empirical comparison of the results of a ten-fold cross validated model with a fully trained model.\n",
    "\n",
    "## Notes and Guidelines\n",
    "* Read a dataset from disk and use it for a classification task.\n",
    "* Construct a Gaussian Naive Bayes classifier and fit it to the phoneme dataset provided.\n",
    "* Save and re-load a trained classifier.\n",
    "* Compare K-fold cross-validation scores with the success rate of a fully-trained model.\n",
    "\n",
    "\n",
    "### Dataset\n",
    "* Dataset acquired from [KEEL](http://sci2s.ugr.es/keel/dataset.php?cod=105), an excellent resource for finding 'toy' datasets (and a few more serious ones).\n",
    "    * A description of the dataset is provided at the above link - **read it.**\n",
    "    * Excerpt: \n",
    "    *The aim of this dataset is to distinguish between nasal (class 0) and oral sounds (class 1).\n",
    "    The class distribution is 3,818 samples in class 0 and 1,586 samples in class 1.\n",
    "    The phonemes are transcribed as follows: sh as in she, dcl as in dark, iy as the vowel in she, aa as the vowel in dark, and ao as the first vowel in water.*\n",
    "    \n",
    "* It is not necessary to fully understand the nature or context of the values in the dataset - only that there are five columns of input (featural) data and one column of output (class) data."
   ]
  },
  {
   "cell_type": "markdown",
   "metadata": {},
   "source": [
    "## Handling imports and dataset inclusion"
   ]
  },
  {
   "cell_type": "code",
   "execution_count": 8,
   "metadata": {},
   "outputs": [],
   "source": [
    "import os\n",
    "import pandas as pd\n",
    "import numpy as np\n",
    "\n",
    "# <import necessary modules> \n",
    "# sklearn packages\n",
    "import matplotlib.pyplot as plt\n",
    "from sklearn.datasets import load_digits\n",
    "from sklearn.naive_bayes import GaussianNB\n",
    "# from sklearn.model_selection import cross_val_score, train_test_split\n",
    "import sklearn.model_selection\n",
    "from sklearn.metrics import classification_report\n",
    "from collections import OrderedDict\n",
    "\n",
    "# pickling\n",
    "import joblib\n",
    "\n",
    "# locate dataset\n",
    "DATASET = '/dsa/data/all_datasets/phoneme.csv'  # phoneme classification dataset\n",
    "assert os.path.exists(DATASET)  # check if the file actually exists"
   ]
  },
  {
   "cell_type": "markdown",
   "metadata": {},
   "source": [
    "## Constructing DataFrame from raw dataset\n",
    "\n",
    "<span style=\"background:yellow\">**Note**</span>: Variable `dataset` should be used for the dataframe."
   ]
  },
  {
   "cell_type": "code",
   "execution_count": 2,
   "metadata": {},
   "outputs": [
    {
     "name": "stdout",
     "output_type": "stream",
     "text": [
      "Dataset shape:  (5404, 6)\n"
     ]
    }
   ],
   "source": [
    "\n",
    "dataset = pd.read_csv(DATASET, header=0).sample(frac=1)\n",
    "\n",
    "# verify dataset shape\n",
    "print(\"Dataset shape: \", dataset.shape)"
   ]
  },
  {
   "cell_type": "code",
   "execution_count": 3,
   "metadata": {},
   "outputs": [
    {
     "data": {
      "text/html": [
       "<div>\n",
       "<style scoped>\n",
       "    .dataframe tbody tr th:only-of-type {\n",
       "        vertical-align: middle;\n",
       "    }\n",
       "\n",
       "    .dataframe tbody tr th {\n",
       "        vertical-align: top;\n",
       "    }\n",
       "\n",
       "    .dataframe thead th {\n",
       "        text-align: right;\n",
       "    }\n",
       "</style>\n",
       "<table border=\"1\" class=\"dataframe\">\n",
       "  <thead>\n",
       "    <tr style=\"text-align: right;\">\n",
       "      <th></th>\n",
       "      <th>Aa</th>\n",
       "      <th>Ao</th>\n",
       "      <th>Dcl</th>\n",
       "      <th>Iy</th>\n",
       "      <th>Sh</th>\n",
       "      <th>Class</th>\n",
       "    </tr>\n",
       "  </thead>\n",
       "  <tbody>\n",
       "    <tr>\n",
       "      <th>count</th>\n",
       "      <td>5404.000000</td>\n",
       "      <td>5404.000000</td>\n",
       "      <td>5404.000000</td>\n",
       "      <td>5404.000000</td>\n",
       "      <td>5404.000000</td>\n",
       "      <td>5404.000000</td>\n",
       "    </tr>\n",
       "    <tr>\n",
       "      <th>mean</th>\n",
       "      <td>0.818957</td>\n",
       "      <td>1.258802</td>\n",
       "      <td>0.764732</td>\n",
       "      <td>0.398743</td>\n",
       "      <td>0.078619</td>\n",
       "      <td>0.293486</td>\n",
       "    </tr>\n",
       "    <tr>\n",
       "      <th>std</th>\n",
       "      <td>0.858733</td>\n",
       "      <td>0.851057</td>\n",
       "      <td>0.925436</td>\n",
       "      <td>0.796531</td>\n",
       "      <td>0.575624</td>\n",
       "      <td>0.455401</td>\n",
       "    </tr>\n",
       "    <tr>\n",
       "      <th>min</th>\n",
       "      <td>-1.700000</td>\n",
       "      <td>-1.327000</td>\n",
       "      <td>-1.823000</td>\n",
       "      <td>-1.581000</td>\n",
       "      <td>-1.284000</td>\n",
       "      <td>0.000000</td>\n",
       "    </tr>\n",
       "    <tr>\n",
       "      <th>25%</th>\n",
       "      <td>0.243750</td>\n",
       "      <td>0.596000</td>\n",
       "      <td>-0.115000</td>\n",
       "      <td>-0.205000</td>\n",
       "      <td>-0.232250</td>\n",
       "      <td>0.000000</td>\n",
       "    </tr>\n",
       "    <tr>\n",
       "      <th>50%</th>\n",
       "      <td>0.492500</td>\n",
       "      <td>1.075500</td>\n",
       "      <td>0.729000</td>\n",
       "      <td>0.285500</td>\n",
       "      <td>-0.044000</td>\n",
       "      <td>0.000000</td>\n",
       "    </tr>\n",
       "    <tr>\n",
       "      <th>75%</th>\n",
       "      <td>1.089250</td>\n",
       "      <td>1.866250</td>\n",
       "      <td>1.484000</td>\n",
       "      <td>0.937000</td>\n",
       "      <td>0.196250</td>\n",
       "      <td>1.000000</td>\n",
       "    </tr>\n",
       "    <tr>\n",
       "      <th>max</th>\n",
       "      <td>4.107000</td>\n",
       "      <td>4.378000</td>\n",
       "      <td>3.199000</td>\n",
       "      <td>2.826000</td>\n",
       "      <td>2.719000</td>\n",
       "      <td>1.000000</td>\n",
       "    </tr>\n",
       "  </tbody>\n",
       "</table>\n",
       "</div>"
      ],
      "text/plain": [
       "                Aa           Ao          Dcl           Iy           Sh  \\\n",
       "count  5404.000000  5404.000000  5404.000000  5404.000000  5404.000000   \n",
       "mean      0.818957     1.258802     0.764732     0.398743     0.078619   \n",
       "std       0.858733     0.851057     0.925436     0.796531     0.575624   \n",
       "min      -1.700000    -1.327000    -1.823000    -1.581000    -1.284000   \n",
       "25%       0.243750     0.596000    -0.115000    -0.205000    -0.232250   \n",
       "50%       0.492500     1.075500     0.729000     0.285500    -0.044000   \n",
       "75%       1.089250     1.866250     1.484000     0.937000     0.196250   \n",
       "max       4.107000     4.378000     3.199000     2.826000     2.719000   \n",
       "\n",
       "             Class  \n",
       "count  5404.000000  \n",
       "mean      0.293486  \n",
       "std       0.455401  \n",
       "min       0.000000  \n",
       "25%       0.000000  \n",
       "50%       0.000000  \n",
       "75%       1.000000  \n",
       "max       1.000000  "
      ]
     },
     "execution_count": 3,
     "metadata": {},
     "output_type": "execute_result"
    }
   ],
   "source": [
    "# Describing the dataset as well\n",
    "\n",
    "dataset.describe()"
   ]
  },
  {
   "cell_type": "code",
   "execution_count": 4,
   "metadata": {},
   "outputs": [
    {
     "data": {
      "text/html": [
       "<div>\n",
       "<style scoped>\n",
       "    .dataframe tbody tr th:only-of-type {\n",
       "        vertical-align: middle;\n",
       "    }\n",
       "\n",
       "    .dataframe tbody tr th {\n",
       "        vertical-align: top;\n",
       "    }\n",
       "\n",
       "    .dataframe thead th {\n",
       "        text-align: right;\n",
       "    }\n",
       "</style>\n",
       "<table border=\"1\" class=\"dataframe\">\n",
       "  <thead>\n",
       "    <tr style=\"text-align: right;\">\n",
       "      <th></th>\n",
       "      <th>Aa</th>\n",
       "      <th>Ao</th>\n",
       "      <th>Dcl</th>\n",
       "      <th>Iy</th>\n",
       "      <th>Sh</th>\n",
       "      <th>Class</th>\n",
       "    </tr>\n",
       "  </thead>\n",
       "  <tbody>\n",
       "    <tr>\n",
       "      <th>3273</th>\n",
       "      <td>3.161</td>\n",
       "      <td>-0.243</td>\n",
       "      <td>0.211</td>\n",
       "      <td>-0.086</td>\n",
       "      <td>0.085</td>\n",
       "      <td>0</td>\n",
       "    </tr>\n",
       "    <tr>\n",
       "      <th>4092</th>\n",
       "      <td>2.111</td>\n",
       "      <td>0.901</td>\n",
       "      <td>0.371</td>\n",
       "      <td>0.268</td>\n",
       "      <td>0.515</td>\n",
       "      <td>0</td>\n",
       "    </tr>\n",
       "    <tr>\n",
       "      <th>4631</th>\n",
       "      <td>0.807</td>\n",
       "      <td>2.168</td>\n",
       "      <td>0.714</td>\n",
       "      <td>0.840</td>\n",
       "      <td>0.580</td>\n",
       "      <td>1</td>\n",
       "    </tr>\n",
       "    <tr>\n",
       "      <th>227</th>\n",
       "      <td>1.021</td>\n",
       "      <td>2.274</td>\n",
       "      <td>-0.520</td>\n",
       "      <td>-0.190</td>\n",
       "      <td>-0.120</td>\n",
       "      <td>0</td>\n",
       "    </tr>\n",
       "    <tr>\n",
       "      <th>3914</th>\n",
       "      <td>0.738</td>\n",
       "      <td>1.981</td>\n",
       "      <td>-0.297</td>\n",
       "      <td>0.193</td>\n",
       "      <td>-0.118</td>\n",
       "      <td>0</td>\n",
       "    </tr>\n",
       "  </tbody>\n",
       "</table>\n",
       "</div>"
      ],
      "text/plain": [
       "         Aa     Ao    Dcl     Iy     Sh  Class\n",
       "3273  3.161 -0.243  0.211 -0.086  0.085      0\n",
       "4092  2.111  0.901  0.371  0.268  0.515      0\n",
       "4631  0.807  2.168  0.714  0.840  0.580      1\n",
       "227   1.021  2.274 -0.520 -0.190 -0.120      0\n",
       "3914  0.738  1.981 -0.297  0.193 -0.118      0"
      ]
     },
     "execution_count": 4,
     "metadata": {},
     "output_type": "execute_result"
    }
   ],
   "source": [
    "# show first few lines of the dataset\n",
    "dataset.head()"
   ]
  },
  {
   "cell_type": "markdown",
   "metadata": {},
   "source": [
    "## Splitting data into training and test sets\n",
    "\n",
    "Split the datasets into training (80%) and testing (20%) sets. \n",
    "\n",
    "The below is only necessary if you are interested in visualizing\n",
    "the data or providing neatly-labeled output within the program.\n",
    "\n",
    "```python\n",
    "# extract labels from column headers\n",
    "phonemes = dataset.columns[0:5].tolist()  # Feature labels\n",
    "labels = {0: 'Nasal', 1: 'Oral'}  # Class labels\n",
    "```"
   ]
  },
  {
   "cell_type": "code",
   "execution_count": 5,
   "metadata": {},
   "outputs": [
    {
     "name": "stdout",
     "output_type": "stream",
     "text": [
      "Training shapes (X, y):  (4323, 5) (4323,)\n",
      "Testing shapes (X, y):  (1081, 5) (1081,)\n"
     ]
    }
   ],
   "source": [
    "# extract features and class data from primary data frame\n",
    "X = dataset.iloc[:,:5] \n",
    "y = dataset.Class  \n",
    "\n",
    "# split data into training and test sets\n",
    "X_train, X_test, y_train, y_test = train_test_split(X, y, test_size=0.2)\n",
    "print(\"Training shapes (X, y): \", X_train.shape, y_train.shape)\n",
    "print(\"Testing shapes (X, y): \", X_test.shape, y_test.shape)"
   ]
  },
  {
   "cell_type": "code",
   "execution_count": 6,
   "metadata": {},
   "outputs": [],
   "source": [
    "phonemes = dataset.columns[0:5].tolist()  # Feature labels\n",
    "labels = {0: 'Nasal', 1: 'Oral'}  # Class labels"
   ]
  },
  {
   "cell_type": "markdown",
   "metadata": {},
   "source": [
    "## Constructing the classifier and running automated cross-validation\n",
    "\n",
    "* Run a 10-fold cross validation with `GaussianNB` classifier\n",
    "* Print the accuracy scores for these 10 folds"
   ]
  },
  {
   "cell_type": "code",
   "execution_count": 9,
   "metadata": {},
   "outputs": [
    {
     "data": {
      "text/plain": [
       "array([0.73752311, 0.80591497, 0.76340111, 0.73937153, 0.79074074,\n",
       "       0.76296296, 0.74259259, 0.77777778, 0.74814815, 0.73888889])"
      ]
     },
     "execution_count": 9,
     "metadata": {},
     "output_type": "execute_result"
    }
   ],
   "source": [
    "# Your code below this line (Question #E101)\n",
    "# --------------------------\n",
    "\n",
    "# Gaussian classifier\n",
    "model = GaussianNB()\n",
    "\n",
    "# cross validation test\n",
    "cv_ten = sklearn.model_selection.cross_val_score(model, X, y, cv=10)\n",
    "\n",
    "# printing array of accuracy scores\n",
    "cv_ten\n",
    "\n"
   ]
  },
  {
   "cell_type": "markdown",
   "metadata": {},
   "source": [
    "## Training the classifier and pickling to disk\n",
    "* Learn the model with all the training instances and store to disk"
   ]
  },
  {
   "cell_type": "code",
   "execution_count": 10,
   "metadata": {},
   "outputs": [
    {
     "data": {
      "text/plain": [
       "GaussianNB()"
      ]
     },
     "execution_count": 10,
     "metadata": {},
     "output_type": "execute_result"
    }
   ],
   "source": [
    "# Your code below this line (Question #E102)\n",
    "# --------------------------\n",
    "\n",
    "model.fit(X_train, y_train)\n"
   ]
  },
  {
   "cell_type": "code",
   "execution_count": 11,
   "metadata": {},
   "outputs": [
    {
     "data": {
      "text/plain": [
       "['GaussianPhonemes.pkl']"
      ]
     },
     "execution_count": 11,
     "metadata": {},
     "output_type": "execute_result"
    }
   ],
   "source": [
    "joblib.dump(model, 'GaussianPhonemes.pkl')"
   ]
  },
  {
   "cell_type": "markdown",
   "metadata": {},
   "source": [
    "## Unpickling the model and making predictions\n",
    "\n",
    "* Load the saved model \n",
    "* Make predictions for the testing set\n"
   ]
  },
  {
   "cell_type": "code",
   "execution_count": 12,
   "metadata": {},
   "outputs": [
    {
     "name": "stdout",
     "output_type": "stream",
     "text": [
      "Input vs. output shape:\n",
      "(1081, 5) (1081,)\n"
     ]
    }
   ],
   "source": [
    "# Your code below this line (Question #E103)\n",
    "# --------------------------\n",
    "\n",
    "# load pickled model\n",
    "loaded_model = joblib.load('GaussianPhonemes.pkl')\n",
    "\n",
    "# make predictions with freshly loaded model\n",
    "y_pred = loaded_model.predict(X_test)\n",
    "\n",
    "# verify input and output shape are appropriate\n",
    "print(\"Input vs. output shape:\")\n",
    "print(X_test.shape, y_pred.shape)\n",
    "\n",
    "\n"
   ]
  },
  {
   "cell_type": "markdown",
   "metadata": {},
   "source": [
    "## Performing final performance comparison"
   ]
  },
  {
   "cell_type": "code",
   "execution_count": 13,
   "metadata": {},
   "outputs": [
    {
     "name": "stdout",
     "output_type": "stream",
     "text": [
      "Correct guesses: 825\n",
      "Incorrect guesses: 256\n",
      "Percent correct: 76.31822386679002\n",
      "Percent cross-validation score (10 folds, average): 76.07321831998358\n"
     ]
    }
   ],
   "source": [
    "# tally up right + wrong 'guesses' by model\n",
    "true, false = 0, 0\n",
    "for i, j in zip(y_test, y_pred):\n",
    "    # print(i, j)\n",
    "    if i == j:\n",
    "        true += 1\n",
    "    else:\n",
    "        false += 1\n",
    "\n",
    "# report results numerically and by percentage\n",
    "true_percent = true / (true + false) * 100\n",
    "print(\"Correct guesses: \" + str(true) + \"\\nIncorrect guesses: \" + str(false))\n",
    "print(\"Percent correct: \" + str(true_percent))\n",
    "\n",
    "# compare to average of cross-validation scores\n",
    "avg_cv = np.sum(cv_ten) / len(cv_ten) * 100\n",
    "print(\"Percent cross-validation score (10 folds, average): \" + str(avg_cv))"
   ]
  },
  {
   "cell_type": "markdown",
   "metadata": {},
   "source": [
    "## Measure performance using Scikit Learn modules \n",
    "\n",
    "Compute and display the following:\n",
    " 1. Compute Confusion Matrix\n",
    " 1. Accuracy\n",
    " 1. Precision\n",
    " 1. Recall\n",
    " 1. $F_1$-Score\n",
    " \n",
    "Add additional cells if required. "
   ]
  },
  {
   "cell_type": "code",
   "execution_count": 14,
   "metadata": {},
   "outputs": [
    {
     "name": "stdout",
     "output_type": "stream",
     "text": [
      "              precision    recall  f1-score   support\n",
      "\n",
      "           0       0.88      0.77      0.82       772\n",
      "           1       0.57      0.74      0.64       309\n",
      "\n",
      "    accuracy                           0.76      1081\n",
      "   macro avg       0.72      0.76      0.73      1081\n",
      "weighted avg       0.79      0.76      0.77      1081\n",
      "\n"
     ]
    }
   ],
   "source": [
    "# Your code below this line  (Question #E104)\n",
    "# --------------------------\n",
    "\n",
    "print(classification_report(y_test, y_pred))\n"
   ]
  },
  {
   "cell_type": "markdown",
   "metadata": {},
   "source": [
    "## Conclusions ?\n",
    "\n",
    "How did your trained model perform relative to your expectations based on the cross-validation?\n",
    "Provide your answer in the cell below."
   ]
  },
  {
   "cell_type": "code",
   "execution_count": null,
   "metadata": {},
   "outputs": [],
   "source": [
    "# Add your answer below this comment  (Question #E105)\n",
    "# -----------------------------------\n",
    "\n",
    "The trained model was able to correctly predict 76.3% of the testing set, while the cross-validation had an average of 76.2%.\n",
    "Since both of these are essentially the same, I would say that the trained model performed exactly as anticipated after\n",
    "a 10-fold cross validation test. \n",
    "\n",
    "\n",
    "\n"
   ]
  },
  {
   "cell_type": "markdown",
   "metadata": {},
   "source": [
    "# Save your notebook!  Then `File > Close and Halt`"
   ]
  }
 ],
 "metadata": {
  "kernelspec": {
   "display_name": "Python 3",
   "language": "python",
   "name": "python3"
  },
  "language_info": {
   "codemirror_mode": {
    "name": "ipython",
    "version": 3
   },
   "file_extension": ".py",
   "mimetype": "text/x-python",
   "name": "python",
   "nbconvert_exporter": "python",
   "pygments_lexer": "ipython3",
   "version": "3.7.3"
  }
 },
 "nbformat": 4,
 "nbformat_minor": 4
}
