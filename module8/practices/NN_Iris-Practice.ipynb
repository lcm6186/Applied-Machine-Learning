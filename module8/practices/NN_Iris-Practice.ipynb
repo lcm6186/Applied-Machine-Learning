{
 "cells": [
  {
   "cell_type": "markdown",
   "metadata": {},
   "source": [
    "# Module 8 : Classifying Iris with Neural Networks\n",
    "\n",
    "In this session, you will create a Multilayer Perceptron (MLP) model to practice on the Iris dataset, to get more familiarized with PyTorch.\n",
    "\n"
   ]
  },
  {
   "cell_type": "markdown",
   "metadata": {},
   "source": [
    "#### Some initial library loading!"
   ]
  },
  {
   "cell_type": "code",
   "execution_count": 1,
   "metadata": {},
   "outputs": [],
   "source": [
    "%matplotlib inline\n",
    "import matplotlib.pyplot as plt\n",
    "\n",
    "import os, sys\n",
    "import itertools\n",
    "import numpy as np\n",
    "import pandas as pd\n",
    "from sklearn.preprocessing import scale, LabelEncoder, StandardScaler, Normalizer, MinMaxScaler\n",
    "from sklearn.metrics import f1_score, confusion_matrix\n",
    "from sklearn.metrics import accuracy_score\n",
    "from sklearn.model_selection import train_test_split\n",
    "\n",
    "from scipy import stats\n",
    "\n",
    "import torch\n",
    "from torch import nn\n",
    "from torch import optim\n",
    "from torch.utils.data import TensorDataset, DataLoader\n",
    "from torch.autograd import Variable\n",
    "import torch.nn.functional as F\n",
    "import tqdm\n",
    "\n",
    "# Random seed for numpy\n",
    "np.random.seed(18937)"
   ]
  },
  {
   "cell_type": "markdown",
   "metadata": {},
   "source": [
    "#### Loading the Data Set"
   ]
  },
  {
   "cell_type": "code",
   "execution_count": 2,
   "metadata": {},
   "outputs": [
    {
     "data": {
      "text/plain": [
       "dict_keys(['data', 'target', 'target_names', 'DESCR', 'feature_names', 'filename'])"
      ]
     },
     "execution_count": 2,
     "metadata": {},
     "output_type": "execute_result"
    }
   ],
   "source": [
    "from sklearn import datasets\n",
    "\n",
    "iris = datasets.load_iris()\n",
    "iris.keys()"
   ]
  },
  {
   "cell_type": "code",
   "execution_count": 3,
   "metadata": {},
   "outputs": [
    {
     "name": "stdout",
     "output_type": "stream",
     "text": [
      "features ['sepal length (cm)', 'sepal width (cm)', 'petal length (cm)', 'petal width (cm)']\n",
      "targets ['setosa' 'versicolor' 'virginica']\n"
     ]
    }
   ],
   "source": [
    "# Features in this dataset\n",
    "print('features', iris.feature_names)\n",
    "\n",
    "# Target classes of this 3-class prediction problem.\n",
    "print('targets', iris.target_names)"
   ]
  },
  {
   "cell_type": "code",
   "execution_count": 4,
   "metadata": {},
   "outputs": [
    {
     "data": {
      "text/html": [
       "<div>\n",
       "<style scoped>\n",
       "    .dataframe tbody tr th:only-of-type {\n",
       "        vertical-align: middle;\n",
       "    }\n",
       "\n",
       "    .dataframe tbody tr th {\n",
       "        vertical-align: top;\n",
       "    }\n",
       "\n",
       "    .dataframe thead th {\n",
       "        text-align: right;\n",
       "    }\n",
       "</style>\n",
       "<table border=\"1\" class=\"dataframe\">\n",
       "  <thead>\n",
       "    <tr style=\"text-align: right;\">\n",
       "      <th></th>\n",
       "      <th>sepal length (cm)</th>\n",
       "      <th>sepal width (cm)</th>\n",
       "      <th>petal length (cm)</th>\n",
       "      <th>petal width (cm)</th>\n",
       "    </tr>\n",
       "  </thead>\n",
       "  <tbody>\n",
       "    <tr>\n",
       "      <th>0</th>\n",
       "      <td>5.1</td>\n",
       "      <td>3.5</td>\n",
       "      <td>1.4</td>\n",
       "      <td>0.2</td>\n",
       "    </tr>\n",
       "    <tr>\n",
       "      <th>1</th>\n",
       "      <td>4.9</td>\n",
       "      <td>3.0</td>\n",
       "      <td>1.4</td>\n",
       "      <td>0.2</td>\n",
       "    </tr>\n",
       "    <tr>\n",
       "      <th>2</th>\n",
       "      <td>4.7</td>\n",
       "      <td>3.2</td>\n",
       "      <td>1.3</td>\n",
       "      <td>0.2</td>\n",
       "    </tr>\n",
       "    <tr>\n",
       "      <th>3</th>\n",
       "      <td>4.6</td>\n",
       "      <td>3.1</td>\n",
       "      <td>1.5</td>\n",
       "      <td>0.2</td>\n",
       "    </tr>\n",
       "    <tr>\n",
       "      <th>4</th>\n",
       "      <td>5.0</td>\n",
       "      <td>3.6</td>\n",
       "      <td>1.4</td>\n",
       "      <td>0.2</td>\n",
       "    </tr>\n",
       "  </tbody>\n",
       "</table>\n",
       "</div>"
      ],
      "text/plain": [
       "   sepal length (cm)  sepal width (cm)  petal length (cm)  petal width (cm)\n",
       "0                5.1               3.5                1.4               0.2\n",
       "1                4.9               3.0                1.4               0.2\n",
       "2                4.7               3.2                1.3               0.2\n",
       "3                4.6               3.1                1.5               0.2\n",
       "4                5.0               3.6                1.4               0.2"
      ]
     },
     "execution_count": 4,
     "metadata": {},
     "output_type": "execute_result"
    }
   ],
   "source": [
    "df = pd.DataFrame(iris.data, columns = iris.feature_names)\n",
    "df.head()"
   ]
  },
  {
   "cell_type": "markdown",
   "metadata": {},
   "source": [
    "### Task 1: Assign features and the target to variables X and y"
   ]
  },
  {
   "cell_type": "code",
   "execution_count": 5,
   "metadata": {},
   "outputs": [],
   "source": [
    "# Add code below this comment  (Question #P01)\n",
    "# ----------------------------------\n",
    "\n",
    "X = iris.data\n",
    "y = iris.target\n",
    "\n"
   ]
  },
  {
   "cell_type": "markdown",
   "metadata": {},
   "source": [
    "## Do a little more inspection\n",
    "\n",
    "Is `X` a pandas dataframe or a numpy array? What kind of data does it contain? Let's run some descriptive statistics."
   ]
  },
  {
   "cell_type": "code",
   "execution_count": 6,
   "metadata": {},
   "outputs": [
    {
     "name": "stdout",
     "output_type": "stream",
     "text": [
      "type <class 'numpy.ndarray'>\n",
      "shape (150, 4)\n"
     ]
    },
    {
     "data": {
      "text/html": [
       "<div>\n",
       "<style scoped>\n",
       "    .dataframe tbody tr th:only-of-type {\n",
       "        vertical-align: middle;\n",
       "    }\n",
       "\n",
       "    .dataframe tbody tr th {\n",
       "        vertical-align: top;\n",
       "    }\n",
       "\n",
       "    .dataframe thead th {\n",
       "        text-align: right;\n",
       "    }\n",
       "</style>\n",
       "<table border=\"1\" class=\"dataframe\">\n",
       "  <thead>\n",
       "    <tr style=\"text-align: right;\">\n",
       "      <th></th>\n",
       "      <th>sepal length (cm)</th>\n",
       "      <th>sepal width (cm)</th>\n",
       "      <th>petal length (cm)</th>\n",
       "      <th>petal width (cm)</th>\n",
       "    </tr>\n",
       "  </thead>\n",
       "  <tbody>\n",
       "    <tr>\n",
       "      <th>count</th>\n",
       "      <td>150.000000</td>\n",
       "      <td>150.000000</td>\n",
       "      <td>150.000000</td>\n",
       "      <td>150.000000</td>\n",
       "    </tr>\n",
       "    <tr>\n",
       "      <th>mean</th>\n",
       "      <td>5.843333</td>\n",
       "      <td>3.057333</td>\n",
       "      <td>3.758000</td>\n",
       "      <td>1.199333</td>\n",
       "    </tr>\n",
       "    <tr>\n",
       "      <th>std</th>\n",
       "      <td>0.828066</td>\n",
       "      <td>0.435866</td>\n",
       "      <td>1.765298</td>\n",
       "      <td>0.762238</td>\n",
       "    </tr>\n",
       "    <tr>\n",
       "      <th>min</th>\n",
       "      <td>4.300000</td>\n",
       "      <td>2.000000</td>\n",
       "      <td>1.000000</td>\n",
       "      <td>0.100000</td>\n",
       "    </tr>\n",
       "    <tr>\n",
       "      <th>25%</th>\n",
       "      <td>5.100000</td>\n",
       "      <td>2.800000</td>\n",
       "      <td>1.600000</td>\n",
       "      <td>0.300000</td>\n",
       "    </tr>\n",
       "    <tr>\n",
       "      <th>50%</th>\n",
       "      <td>5.800000</td>\n",
       "      <td>3.000000</td>\n",
       "      <td>4.350000</td>\n",
       "      <td>1.300000</td>\n",
       "    </tr>\n",
       "    <tr>\n",
       "      <th>75%</th>\n",
       "      <td>6.400000</td>\n",
       "      <td>3.300000</td>\n",
       "      <td>5.100000</td>\n",
       "      <td>1.800000</td>\n",
       "    </tr>\n",
       "    <tr>\n",
       "      <th>max</th>\n",
       "      <td>7.900000</td>\n",
       "      <td>4.400000</td>\n",
       "      <td>6.900000</td>\n",
       "      <td>2.500000</td>\n",
       "    </tr>\n",
       "  </tbody>\n",
       "</table>\n",
       "</div>"
      ],
      "text/plain": [
       "       sepal length (cm)  sepal width (cm)  petal length (cm)  \\\n",
       "count         150.000000        150.000000         150.000000   \n",
       "mean            5.843333          3.057333           3.758000   \n",
       "std             0.828066          0.435866           1.765298   \n",
       "min             4.300000          2.000000           1.000000   \n",
       "25%             5.100000          2.800000           1.600000   \n",
       "50%             5.800000          3.000000           4.350000   \n",
       "75%             6.400000          3.300000           5.100000   \n",
       "max             7.900000          4.400000           6.900000   \n",
       "\n",
       "       petal width (cm)  \n",
       "count        150.000000  \n",
       "mean           1.199333  \n",
       "std            0.762238  \n",
       "min            0.100000  \n",
       "25%            0.300000  \n",
       "50%            1.300000  \n",
       "75%            1.800000  \n",
       "max            2.500000  "
      ]
     },
     "execution_count": 6,
     "metadata": {},
     "output_type": "execute_result"
    }
   ],
   "source": [
    "print('type', type(X))\n",
    "print('shape', X.shape)\n",
    "df.describe()"
   ]
  },
  {
   "cell_type": "code",
   "execution_count": 7,
   "metadata": {},
   "outputs": [
    {
     "name": "stdout",
     "output_type": "stream",
     "text": [
      "nobs      : 150\n",
      "min       : [4.3 2.  1.  0.1]\n",
      "max       : [7.9 4.4 6.9 2.5]\n",
      "mean      : [5.84333333 3.05733333 3.758      1.19933333]\n",
      "variance  : [0.68569351 0.18997942 3.11627785 0.58100626]\n",
      "skewness  : [ 0.31175306  0.31576711 -0.27212767 -0.10193421]\n",
      "kurtosis  : [-0.57356795  0.18097632 -1.39553589 -1.33606741]\n"
     ]
    }
   ],
   "source": [
    "# Prettify to make that more readable.\n",
    "\n",
    "for stat, val in stats.describe(X)._asdict().items():\n",
    "    if stat!='minmax':\n",
    "        print('{:<10}: {}'.format(stat, val))\n",
    "    else:\n",
    "        print('{:<10}: {}'.format('min', val[0]))\n",
    "        print('{:<10}: {}'.format('max', val[1]))"
   ]
  },
  {
   "cell_type": "code",
   "execution_count": 8,
   "metadata": {},
   "outputs": [
    {
     "name": "stdout",
     "output_type": "stream",
     "text": [
      "type:  <class 'numpy.ndarray'>\n",
      "shape:  (150,)\n",
      "Counter({0: 50, 1: 50, 2: 50})\n"
     ]
    }
   ],
   "source": [
    "from collections import Counter\n",
    "print('type: ', type(y))\n",
    "print('shape: ', y.shape)\n",
    "print(Counter(y))"
   ]
  },
  {
   "cell_type": "markdown",
   "metadata": {},
   "source": [
    "# Visualize the Data \n",
    "\n",
    "We see above that the data features are 4-D.\n",
    "Generate two visualizations of the data using Red, Blue, Green for the colors of\n",
    "`setosa`, `versicolor`, `virginica`, respectively.\n",
    "\n",
    "### Task 2: First, visualize along dimensions 0,1.\n"
   ]
  },
  {
   "cell_type": "code",
   "execution_count": 9,
   "metadata": {},
   "outputs": [
    {
     "data": {
      "text/plain": [
       "([], <a list of 0 Text yticklabel objects>)"
      ]
     },
     "execution_count": 9,
     "metadata": {},
     "output_type": "execute_result"
    },
    {
     "data": {
      "image/png": "[encoded data removed]",
      "text/plain": [
       "<Figure size 432x288 with 1 Axes>"
      ]
     },
     "metadata": {},
     "output_type": "display_data"
    }
   ],
   "source": [
    "# Add code below this comment  (Question #P02)\n",
    "# ----------------------------------\n",
    "\n",
    "#'sepal length (cm)', 'sepal width (cm)'\n",
    "\n",
    "x_min, x_max = X[:, 0].min() - .25, X[:, 0].max() + .25\n",
    "y_min, y_max = X[:, 1].min() - .25, X[:, 1].max() + .25\n",
    "\n",
    "# Plot the training points\n",
    "plt.scatter(X[:, 0], X[:, 1], c=y, cmap=plt.cm.Set1,\n",
    "            edgecolor='k')\n",
    "plt.xlabel('Sepal length')\n",
    "plt.ylabel('Sepal width')\n",
    "\n",
    "plt.xlim(x_min, x_max)\n",
    "plt.ylim(y_min, y_max)\n",
    "plt.xticks(())\n",
    "plt.yticks(())"
   ]
  },
  {
   "cell_type": "markdown",
   "metadata": {},
   "source": [
    "#### Task 3: Second, visualize along dimensions 2,3"
   ]
  },
  {
   "cell_type": "code",
   "execution_count": 10,
   "metadata": {},
   "outputs": [
    {
     "data": {
      "text/plain": [
       "([], <a list of 0 Text yticklabel objects>)"
      ]
     },
     "execution_count": 10,
     "metadata": {},
     "output_type": "execute_result"
    },
    {
     "data": {
      "image/png": "[encoded data removed]",
      "text/plain": [
       "<Figure size 432x288 with 1 Axes>"
      ]
     },
     "metadata": {},
     "output_type": "display_data"
    }
   ],
   "source": [
    "# Add code below this comment  (Question #P03)\n",
    "# ----------------------------------\n",
    "\n",
    "# 'petal length (cm)', 'petal width (cm)'\n",
    "\n",
    "\n",
    "x_min, x_max = X[:, 2].min() - .25, X[:, 2].max() + .25\n",
    "y_min, y_max = X[:, 3].min() - .25, X[:, 3].max() + .25\n",
    "\n",
    "# Plot the training points\n",
    "plt.scatter(X[:, 2], X[:, 3], c=y, cmap=plt.cm.Set1,\n",
    "            edgecolor='k')\n",
    "plt.xlabel('Petal length')\n",
    "plt.ylabel('Petal width')\n",
    "\n",
    "plt.xlim(x_min, x_max)\n",
    "plt.ylim(y_min, y_max)\n",
    "plt.xticks(())\n",
    "plt.yticks(())"
   ]
  },
  {
   "cell_type": "markdown",
   "metadata": {},
   "source": [
    "### Build a NN model\n",
    "\n",
    "### Task 4: Define the neural architecture with PyTorch with the following config\n",
    "\n",
    "1. A hidden layer with 2 neurons\n",
    "2. Use sigmoid activation fuction for the hidden layer\n",
    "3. Convert the output layer values to probabilities\n"
   ]
  },
  {
   "cell_type": "code",
   "execution_count": 11,
   "metadata": {},
   "outputs": [],
   "source": [
    "class MyModel(nn.Module):\n",
    "    def __init__(self, D_in, H, D_out):\n",
    "        \"\"\"\n",
    "        D_in: number of input\n",
    "        H: Number of neurons in the hidden layer\n",
    "        D_out: number of output\n",
    "        \"\"\"\n",
    "        super(MyModel, self).__init__()\n",
    "        # define layers here\n",
    "        self.layer1 = nn.Linear(D_in, H)\n",
    "        self.layer2 = nn.Linear(H, D_out)\n",
    "        \n",
    "    def forward(self, x):\n",
    "        h_pred = torch.sigmoid(self.layer1(x)) \n",
    "        y_pred = torch.softmax(self.layer2(h_pred), dim=1)\n",
    "        return y_pred\n",
    "\n",
    "# Create a model instance\n",
    "\n",
    "D_in = X.shape[1]\n",
    "H = 4\n",
    "D_out = 3\n",
    "\n",
    "model = MyModel(D_in, H, D_out)"
   ]
  },
  {
   "cell_type": "code",
   "execution_count": 12,
   "metadata": {},
   "outputs": [
    {
     "name": "stdout",
     "output_type": "stream",
     "text": [
      "Requirement already satisfied: torchsummary in /opt/conda/lib/python3.7/site-packages (1.5.1)\r\n"
     ]
    }
   ],
   "source": [
    "!pip install torchsummary"
   ]
  },
  {
   "cell_type": "code",
   "execution_count": 13,
   "metadata": {},
   "outputs": [
    {
     "name": "stdout",
     "output_type": "stream",
     "text": [
      "----------------------------------------------------------------\n",
      "        Layer (type)               Output Shape         Param #\n",
      "================================================================\n",
      "            Linear-1                    [-1, 4]              20\n",
      "            Linear-2                    [-1, 3]              15\n",
      "================================================================\n",
      "Total params: 35\n",
      "Trainable params: 35\n",
      "Non-trainable params: 0\n",
      "----------------------------------------------------------------\n",
      "Input size (MB): 0.00\n",
      "Forward/backward pass size (MB): 0.00\n",
      "Params size (MB): 0.00\n",
      "Estimated Total Size (MB): 0.00\n",
      "----------------------------------------------------------------\n"
     ]
    }
   ],
   "source": [
    "from torchsummary import summary\n",
    "summary(model, (X.shape[1],))"
   ]
  },
  {
   "cell_type": "markdown",
   "metadata": {},
   "source": [
    "### Task 5: Define the loss funciton and optimizer \n",
    "\n",
    "Deine the loss function as `CrossEntropyLoss` and compile the model with the `rmsprop` optimizer. Pick a suitable learning rate (`lr`). \n",
    " \n",
    " "
   ]
  },
  {
   "cell_type": "code",
   "execution_count": 14,
   "metadata": {},
   "outputs": [],
   "source": [
    "# Add code below this comment  (Question #P05)\n",
    "# ----------------------------------\n",
    "\n",
    "loss = nn.CrossEntropyLoss()\n",
    "optimizer = optim.RMSprop(model.parameters(), lr=0.01)\n"
   ]
  },
  {
   "cell_type": "markdown",
   "metadata": {},
   "source": [
    "### Divide the Data into Train and Test splits\n",
    "\n",
    "To make this this more fun, we are going to use a 70%/30% split on the training and testing data.\n",
    "\n",
    "### Task 6: Prepare the data for training the model."
   ]
  },
  {
   "cell_type": "code",
   "execution_count": 15,
   "metadata": {},
   "outputs": [],
   "source": [
    "# Add code below this comment  (Question #P06)\n",
    "# ----------------------------------\n",
    "\n",
    "# scale the data either with StandardScaler or Normalizer\n",
    "scaler = StandardScaler()\n",
    "X_scaled = scaler.fit_transform(iris.data)\n",
    "\n",
    "\n",
    "\n",
    "# train/test split \n",
    "X_train, X_test, y_train, y_test = train_test_split(X_scaled, y, test_size=0.3)\n",
    "\n",
    "\n",
    "# convert train/test to tensors\n",
    "X_train_tensor = torch.tensor(X_train, dtype=torch.float)\n",
    "X_test_tensor = torch.tensor(X_test, dtype=torch.float)\n",
    "y_train_tensor = torch.tensor(y_train, dtype=torch.long).view(-1, 1)\n",
    "y_test_tensor = torch.tensor(y_test, dtype=torch.long).view(-1, 1)\n"
   ]
  },
  {
   "cell_type": "code",
   "execution_count": 16,
   "metadata": {},
   "outputs": [],
   "source": [
    "# Create DataLoader\n",
    "\n",
    "BATCH_SIZE = 1  # it is possible to feed more than one istances to the model. \n",
    "# These set of instances is called batch. For simplicity, let's keep one instance per batch\n",
    "\n",
    "train_data = TensorDataset(X_train_tensor, y_train_tensor)\n",
    "test_data = TensorDataset(X_test_tensor, y_test_tensor)\n",
    "\n",
    "train_loader = DataLoader(dataset=train_data, batch_size=BATCH_SIZE, shuffle=True)\n",
    "test_loader = DataLoader(dataset=test_data, batch_size=1)"
   ]
  },
  {
   "cell_type": "markdown",
   "metadata": {},
   "source": [
    "### Task 7: Train the model on the train data\n",
    "\n",
    "Choose an appropriate number of epochs and batch size.\n"
   ]
  },
  {
   "cell_type": "code",
   "execution_count": 17,
   "metadata": {},
   "outputs": [
    {
     "name": "stdout",
     "output_type": "stream",
     "text": [
      "Epoch 000: | Total Loss: 103.55527 | Avg Loss: 0.98624 | Training Acc: 0.58\n",
      "Epoch 005: | Total Loss: 72.04275 | Avg Loss: 0.68612 | Training Acc: 0.95\n",
      "Epoch 010: | Total Loss: 64.60703 | Avg Loss: 0.61531 | Training Acc: 0.97\n",
      "Epoch 015: | Total Loss: 62.52777 | Avg Loss: 0.59550 | Training Acc: 0.96\n",
      "Epoch 020: | Total Loss: 61.90677 | Avg Loss: 0.58959 | Training Acc: 0.96\n",
      "Epoch 025: | Total Loss: 61.58154 | Avg Loss: 0.58649 | Training Acc: 0.96\n",
      "Epoch 030: | Total Loss: 61.39043 | Avg Loss: 0.58467 | Training Acc: 0.96\n",
      "Epoch 035: | Total Loss: 61.22494 | Avg Loss: 0.58309 | Training Acc: 0.96\n",
      "Epoch 040: | Total Loss: 61.11455 | Avg Loss: 0.58204 | Training Acc: 0.96\n",
      "Epoch 045: | Total Loss: 61.14907 | Avg Loss: 0.58237 | Training Acc: 0.97\n",
      "Epoch 050: | Total Loss: 60.75344 | Avg Loss: 0.57860 | Training Acc: 0.97\n",
      "Epoch 055: | Total Loss: 60.78883 | Avg Loss: 0.57894 | Training Acc: 0.97\n",
      "Epoch 060: | Total Loss: 60.66556 | Avg Loss: 0.57777 | Training Acc: 0.98\n",
      "Epoch 065: | Total Loss: 60.67753 | Avg Loss: 0.57788 | Training Acc: 0.97\n",
      "Epoch 070: | Total Loss: 60.58503 | Avg Loss: 0.57700 | Training Acc: 0.98\n",
      "Epoch 075: | Total Loss: 60.39239 | Avg Loss: 0.57517 | Training Acc: 0.98\n",
      "Epoch 080: | Total Loss: 60.26731 | Avg Loss: 0.57397 | Training Acc: 0.97\n",
      "Epoch 085: | Total Loss: 60.30728 | Avg Loss: 0.57436 | Training Acc: 0.97\n",
      "Epoch 090: | Total Loss: 60.20625 | Avg Loss: 0.57339 | Training Acc: 0.98\n",
      "Epoch 095: | Total Loss: 60.15470 | Avg Loss: 0.57290 | Training Acc: 0.98\n"
     ]
    }
   ],
   "source": [
    "# Add code below this comment  (Question #P07)\n",
    "# ----------------------------------\n",
    "\n",
    "N_EPOCHS = 100  # In each epoch, the model iterate over all the instances \n",
    "\n",
    "\n",
    "for epoch in range(N_EPOCHS):\n",
    "    epoch_loss = 0\n",
    "    epoch_acc = 0\n",
    "    \n",
    "    for x, y in train_loader:\n",
    "        y_pred = model(x)      # Forward pass: get the network output for this instance\n",
    "        \n",
    "        l = loss(y_pred, y.view(-1))    # estimate error for this instance\n",
    "        # here y is a 2D variable (1,1); y.view(-1) makes it a vector\n",
    "        \n",
    "        epoch_loss += l.item() # Aggregate error\n",
    "        \n",
    "        optimizer.zero_grad()  # As backward method accumulates gradient, we need to set it to 0\n",
    "        l.backward()           # Backward pass: Estimate gradient \n",
    "        optimizer.step()\n",
    "        \n",
    "        correct = (torch.argmax(y_pred, dim=1) == y).type(torch.FloatTensor)\n",
    "        epoch_acc += correct.item()\n",
    "\n",
    "    if (epoch%5)==0:\n",
    "        print(f'Epoch {epoch+0:03}: | Total Loss: {epoch_loss:.5f} | \\\n",
    "Avg Loss: {epoch_loss/len(train_loader):.5f} | Training Acc: {epoch_acc/len(train_loader):.2f}')"
   ]
  },
  {
   "cell_type": "markdown",
   "metadata": {},
   "source": [
    "----\n",
    "\n",
    "### Task 8: Evaluate your trained model on the on the test data\n",
    "\n",
    "Print the loss and accuracy obtained using model.evaluate(...)."
   ]
  },
  {
   "cell_type": "code",
   "execution_count": 18,
   "metadata": {},
   "outputs": [],
   "source": [
    "# Add code below this comment  (Question #P08)\n",
    "# ----------------------------------\n",
    "\n",
    "model.eval()\n",
    "\n",
    "with torch.no_grad():\n",
    "    y_pred = model(X_test_tensor) \n"
   ]
  },
  {
   "cell_type": "markdown",
   "metadata": {},
   "source": [
    "### Task 9: Interpret the classifier output\n",
    "\n",
    "Run the cell below, then provide your interpretation of the output in the cell below that.  \n"
   ]
  },
  {
   "cell_type": "code",
   "execution_count": 19,
   "metadata": {},
   "outputs": [
    {
     "name": "stdout",
     "output_type": "stream",
     "text": [
      "torch.Size([45, 3])\n",
      "tensor([[7.7222e-22, 2.5151e-04, 9.9975e-01],\n",
      "        [1.4101e-09, 9.9991e-01, 9.3597e-05],\n",
      "        [4.2008e-08, 9.9999e-01, 1.1052e-05],\n",
      "        [1.0000e+00, 5.5971e-07, 1.2133e-16],\n",
      "        [1.0750e-15, 1.0951e-01, 8.9049e-01],\n",
      "        [1.7944e-21, 6.1364e-04, 9.9939e-01],\n",
      "        [1.0000e+00, 5.5872e-07, 1.2109e-16],\n",
      "        [1.4630e-09, 9.9986e-01, 1.4209e-04],\n",
      "        [4.5356e-09, 9.9997e-01, 3.2040e-05],\n",
      "        [1.0000e+00, 5.5883e-07, 1.2109e-16],\n",
      "        [1.0000e+00, 5.5839e-07, 1.2096e-16],\n",
      "        [1.0000e+00, 5.5890e-07, 1.2112e-16],\n",
      "        [1.0000e+00, 5.5876e-07, 1.2109e-16],\n",
      "        [4.3793e-09, 9.9992e-01, 7.7358e-05],\n",
      "        [1.0000e+00, 5.5943e-07, 1.2123e-16],\n",
      "        [1.0000e+00, 5.6089e-07, 1.2164e-16],\n",
      "        [7.5588e-18, 2.8745e-02, 9.7125e-01],\n",
      "        [1.2011e-11, 9.9720e-01, 2.7986e-03],\n",
      "        [1.3356e-11, 9.9337e-01, 6.6284e-03],\n",
      "        [1.0000e+00, 5.5991e-07, 1.2136e-16],\n",
      "        [3.7019e-21, 5.1090e-04, 9.9949e-01],\n",
      "        [1.9154e-09, 9.9990e-01, 9.9273e-05],\n",
      "        [2.0766e-22, 1.5699e-04, 9.9984e-01],\n",
      "        [9.2510e-22, 3.2157e-04, 9.9968e-01],\n",
      "        [1.0000e+00, 5.6019e-07, 1.2152e-16],\n",
      "        [1.0000e+00, 5.5806e-07, 1.2086e-16],\n",
      "        [1.7411e-22, 1.8354e-04, 9.9982e-01],\n",
      "        [5.6881e-20, 3.8247e-03, 9.9618e-01],\n",
      "        [4.1934e-17, 7.0043e-02, 9.2996e-01],\n",
      "        [3.3125e-08, 1.0000e+00, 3.9525e-06],\n",
      "        [1.0555e-22, 1.2308e-04, 9.9988e-01],\n",
      "        [1.0000e+00, 5.5847e-07, 1.2099e-16],\n",
      "        [1.0000e+00, 5.6503e-07, 1.2286e-16],\n",
      "        [3.3618e-09, 9.9994e-01, 6.4956e-05],\n",
      "        [6.8469e-22, 2.8323e-04, 9.9972e-01],\n",
      "        [3.1057e-14, 8.1029e-01, 1.8971e-01],\n",
      "        [1.0582e-20, 9.2250e-04, 9.9908e-01],\n",
      "        [1.0000e+00, 5.7241e-07, 1.2430e-16],\n",
      "        [1.6283e-19, 6.5447e-03, 9.9346e-01],\n",
      "        [9.7339e-23, 1.2217e-04, 9.9988e-01],\n",
      "        [1.0000e+00, 5.5854e-07, 1.2103e-16],\n",
      "        [9.9486e-19, 5.5947e-03, 9.9441e-01],\n",
      "        [5.9308e-21, 6.3353e-04, 9.9937e-01],\n",
      "        [1.0000e+00, 5.5900e-07, 1.2112e-16],\n",
      "        [1.0000e+00, 5.6246e-07, 1.2236e-16]])\n"
     ]
    }
   ],
   "source": [
    "print(y_pred.shape)\n",
    "print(y_pred)"
   ]
  },
  {
   "cell_type": "raw",
   "metadata": {},
   "source": [
    "# Add interpretation below this comment  (Question #P09)\n",
    "# ----------------------------------\n",
    "\n",
    "The above shows the percent 'certainty' that the model believes a particular value is in a class. \n",
    "Looking at the output, each row has one column with a value of ~0.99) which indicates which one of the classes the model believes the value belongs to. \n"
   ]
  },
  {
   "cell_type": "markdown",
   "metadata": {},
   "source": [
    "### Task 10: Print the predicted class label, then generate a confusion matrix and flassification report\n",
    " * Review the documentation: https://docs.scipy.org/doc/numpy/reference/generated/numpy.argmax.html"
   ]
  },
  {
   "cell_type": "code",
   "execution_count": 21,
   "metadata": {},
   "outputs": [
    {
     "name": "stdout",
     "output_type": "stream",
     "text": [
      "tensor([2, 1, 1, 0, 2, 2, 0, 1, 1, 0, 0, 0, 0, 1, 0, 0, 2, 1, 1, 0, 2, 1, 2, 2,\n",
      "        0, 0, 2, 2, 2, 1, 2, 0, 0, 1, 2, 1, 2, 0, 2, 2, 0, 2, 2, 0, 0])\n",
      "[[17  0  0]\n",
      " [ 0 11  1]\n",
      " [ 0  0 16]]\n",
      "              precision    recall  f1-score   support\n",
      "\n",
      "           0       1.00      1.00      1.00        17\n",
      "           1       1.00      0.92      0.96        12\n",
      "           2       0.94      1.00      0.97        16\n",
      "\n",
      "   micro avg       0.98      0.98      0.98        45\n",
      "   macro avg       0.98      0.97      0.98        45\n",
      "weighted avg       0.98      0.98      0.98        45\n",
      "\n"
     ]
    }
   ],
   "source": [
    "# Fix code below this comment  (Question #P10)\n",
    "# ----------------------------------\n",
    "\n",
    "from sklearn.metrics import classification_report, confusion_matrix\n",
    "\n",
    "pred_class = np.argmax(y_pred, axis=1)\n",
    "print(pred_class)\n",
    "\n",
    "print(confusion_matrix(y_test, pred_class))\n",
    "print(classification_report(y_test, pred_class))\n"
   ]
  },
  {
   "cell_type": "markdown",
   "metadata": {},
   "source": [
    "---\n",
    "\n",
    "## This notebook should include things that you are adding to your toolchest in terms of using Scikit-Learn and PyTorch\n",
    "\n",
    "---\n",
    "\n",
    "# Save your notebook, then `File > Close and Halt`"
   ]
  },
  {
   "cell_type": "code",
   "execution_count": null,
   "metadata": {},
   "outputs": [],
   "source": []
  }
 ],
 "metadata": {
  "kernelspec": {
   "display_name": "Python 3",
   "language": "python",
   "name": "python3"
  },
  "language_info": {
   "codemirror_mode": {
    "name": "ipython",
    "version": 3
   },
   "file_extension": ".py",
   "mimetype": "text/x-python",
   "name": "python",
   "nbconvert_exporter": "python",
   "pygments_lexer": "ipython3",
   "version": "3.7.3"
  }
 },
 "nbformat": 4,
 "nbformat_minor": 2
}
