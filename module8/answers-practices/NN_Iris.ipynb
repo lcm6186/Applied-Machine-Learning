{
 "cells": [
  {
   "cell_type": "markdown",
   "metadata": {},
   "source": [
    "# Module 8 : Classifying Iris with Neural Networks\n",
    "\n",
    "In this session, you will create a Multilayer Perceptron (MLP) model to practice on the Iris dataset, to get more familiarized with PyTorch.\n",
    "\n"
   ]
  },
  {
   "cell_type": "markdown",
   "metadata": {},
   "source": [
    "#### Some initial library loading!"
   ]
  },
  {
   "cell_type": "code",
   "execution_count": 1,
   "metadata": {},
   "outputs": [],
   "source": [
    "%matplotlib inline\n",
    "import matplotlib.pyplot as plt\n",
    "\n",
    "import os, sys\n",
    "import itertools\n",
    "import numpy as np\n",
    "import pandas as pd\n",
    "from sklearn.preprocessing import scale, LabelEncoder, StandardScaler, Normalizer, MinMaxScaler\n",
    "from sklearn.metrics import f1_score, confusion_matrix\n",
    "from sklearn.metrics import accuracy_score\n",
    "from sklearn.model_selection import train_test_split\n",
    "\n",
    "from scipy import stats\n",
    "\n",
    "import torch\n",
    "from torch import nn\n",
    "from torch import optim\n",
    "from torch.utils.data import TensorDataset, DataLoader\n",
    "from torch.autograd import Variable\n",
    "import torch.nn.functional as F\n",
    "import tqdm\n",
    "\n",
    "# Random seed for numpy\n",
    "np.random.seed(18937)"
   ]
  },
  {
   "cell_type": "markdown",
   "metadata": {},
   "source": [
    "#### Loading the Data Set"
   ]
  },
  {
   "cell_type": "code",
   "execution_count": 2,
   "metadata": {},
   "outputs": [
    {
     "data": {
      "text/plain": [
       "dict_keys(['data', 'target', 'target_names', 'DESCR', 'feature_names', 'filename'])"
      ]
     },
     "execution_count": 2,
     "metadata": {},
     "output_type": "execute_result"
    }
   ],
   "source": [
    "from sklearn import datasets\n",
    "\n",
    "iris = datasets.load_iris()\n",
    "iris.keys()"
   ]
  },
  {
   "cell_type": "code",
   "execution_count": 3,
   "metadata": {},
   "outputs": [
    {
     "name": "stdout",
     "output_type": "stream",
     "text": [
      "features ['sepal length (cm)', 'sepal width (cm)', 'petal length (cm)', 'petal width (cm)']\n",
      "targets ['setosa' 'versicolor' 'virginica']\n"
     ]
    }
   ],
   "source": [
    "# Features in this dataset\n",
    "print('features', iris.feature_names)\n",
    "\n",
    "# Target classes of this 3-class prediction problem.\n",
    "print('targets', iris.target_names)"
   ]
  },
  {
   "cell_type": "code",
   "execution_count": 4,
   "metadata": {},
   "outputs": [
    {
     "data": {
      "text/html": [
       "<div>\n",
       "<style scoped>\n",
       "    .dataframe tbody tr th:only-of-type {\n",
       "        vertical-align: middle;\n",
       "    }\n",
       "\n",
       "    .dataframe tbody tr th {\n",
       "        vertical-align: top;\n",
       "    }\n",
       "\n",
       "    .dataframe thead th {\n",
       "        text-align: right;\n",
       "    }\n",
       "</style>\n",
       "<table border=\"1\" class=\"dataframe\">\n",
       "  <thead>\n",
       "    <tr style=\"text-align: right;\">\n",
       "      <th></th>\n",
       "      <th>sepal length (cm)</th>\n",
       "      <th>sepal width (cm)</th>\n",
       "      <th>petal length (cm)</th>\n",
       "      <th>petal width (cm)</th>\n",
       "    </tr>\n",
       "  </thead>\n",
       "  <tbody>\n",
       "    <tr>\n",
       "      <th>0</th>\n",
       "      <td>5.1</td>\n",
       "      <td>3.5</td>\n",
       "      <td>1.4</td>\n",
       "      <td>0.2</td>\n",
       "    </tr>\n",
       "    <tr>\n",
       "      <th>1</th>\n",
       "      <td>4.9</td>\n",
       "      <td>3.0</td>\n",
       "      <td>1.4</td>\n",
       "      <td>0.2</td>\n",
       "    </tr>\n",
       "    <tr>\n",
       "      <th>2</th>\n",
       "      <td>4.7</td>\n",
       "      <td>3.2</td>\n",
       "      <td>1.3</td>\n",
       "      <td>0.2</td>\n",
       "    </tr>\n",
       "    <tr>\n",
       "      <th>3</th>\n",
       "      <td>4.6</td>\n",
       "      <td>3.1</td>\n",
       "      <td>1.5</td>\n",
       "      <td>0.2</td>\n",
       "    </tr>\n",
       "    <tr>\n",
       "      <th>4</th>\n",
       "      <td>5.0</td>\n",
       "      <td>3.6</td>\n",
       "      <td>1.4</td>\n",
       "      <td>0.2</td>\n",
       "    </tr>\n",
       "  </tbody>\n",
       "</table>\n",
       "</div>"
      ],
      "text/plain": [
       "   sepal length (cm)  sepal width (cm)  petal length (cm)  petal width (cm)\n",
       "0                5.1               3.5                1.4               0.2\n",
       "1                4.9               3.0                1.4               0.2\n",
       "2                4.7               3.2                1.3               0.2\n",
       "3                4.6               3.1                1.5               0.2\n",
       "4                5.0               3.6                1.4               0.2"
      ]
     },
     "execution_count": 4,
     "metadata": {},
     "output_type": "execute_result"
    }
   ],
   "source": [
    "df = pd.DataFrame(iris.data, columns = iris.feature_names)\n",
    "df.head()"
   ]
  },
  {
   "cell_type": "markdown",
   "metadata": {},
   "source": [
    "#### Task 1: Assign features and the target to variables X and y"
   ]
  },
  {
   "cell_type": "code",
   "execution_count": 5,
   "metadata": {},
   "outputs": [],
   "source": [
    "# Add code below this comment  (Question #P01)\n",
    "# ----------------------------------\n",
    "\n",
    "X = iris.data\n",
    "y = iris.target\n",
    "\n"
   ]
  },
  {
   "cell_type": "markdown",
   "metadata": {},
   "source": [
    "## Do a little more inspection\n",
    "\n",
    "Is `X` a pandas dataframe or a numpy array? What kind of data does it contain? Let's run some descriptive statistics."
   ]
  },
  {
   "cell_type": "code",
   "execution_count": 6,
   "metadata": {},
   "outputs": [
    {
     "name": "stdout",
     "output_type": "stream",
     "text": [
      "type <class 'numpy.ndarray'>\n",
      "shape (150, 4)\n"
     ]
    },
    {
     "data": {
      "text/html": [
       "<div>\n",
       "<style scoped>\n",
       "    .dataframe tbody tr th:only-of-type {\n",
       "        vertical-align: middle;\n",
       "    }\n",
       "\n",
       "    .dataframe tbody tr th {\n",
       "        vertical-align: top;\n",
       "    }\n",
       "\n",
       "    .dataframe thead th {\n",
       "        text-align: right;\n",
       "    }\n",
       "</style>\n",
       "<table border=\"1\" class=\"dataframe\">\n",
       "  <thead>\n",
       "    <tr style=\"text-align: right;\">\n",
       "      <th></th>\n",
       "      <th>sepal length (cm)</th>\n",
       "      <th>sepal width (cm)</th>\n",
       "      <th>petal length (cm)</th>\n",
       "      <th>petal width (cm)</th>\n",
       "    </tr>\n",
       "  </thead>\n",
       "  <tbody>\n",
       "    <tr>\n",
       "      <th>count</th>\n",
       "      <td>150.000000</td>\n",
       "      <td>150.000000</td>\n",
       "      <td>150.000000</td>\n",
       "      <td>150.000000</td>\n",
       "    </tr>\n",
       "    <tr>\n",
       "      <th>mean</th>\n",
       "      <td>5.843333</td>\n",
       "      <td>3.057333</td>\n",
       "      <td>3.758000</td>\n",
       "      <td>1.199333</td>\n",
       "    </tr>\n",
       "    <tr>\n",
       "      <th>std</th>\n",
       "      <td>0.828066</td>\n",
       "      <td>0.435866</td>\n",
       "      <td>1.765298</td>\n",
       "      <td>0.762238</td>\n",
       "    </tr>\n",
       "    <tr>\n",
       "      <th>min</th>\n",
       "      <td>4.300000</td>\n",
       "      <td>2.000000</td>\n",
       "      <td>1.000000</td>\n",
       "      <td>0.100000</td>\n",
       "    </tr>\n",
       "    <tr>\n",
       "      <th>25%</th>\n",
       "      <td>5.100000</td>\n",
       "      <td>2.800000</td>\n",
       "      <td>1.600000</td>\n",
       "      <td>0.300000</td>\n",
       "    </tr>\n",
       "    <tr>\n",
       "      <th>50%</th>\n",
       "      <td>5.800000</td>\n",
       "      <td>3.000000</td>\n",
       "      <td>4.350000</td>\n",
       "      <td>1.300000</td>\n",
       "    </tr>\n",
       "    <tr>\n",
       "      <th>75%</th>\n",
       "      <td>6.400000</td>\n",
       "      <td>3.300000</td>\n",
       "      <td>5.100000</td>\n",
       "      <td>1.800000</td>\n",
       "    </tr>\n",
       "    <tr>\n",
       "      <th>max</th>\n",
       "      <td>7.900000</td>\n",
       "      <td>4.400000</td>\n",
       "      <td>6.900000</td>\n",
       "      <td>2.500000</td>\n",
       "    </tr>\n",
       "  </tbody>\n",
       "</table>\n",
       "</div>"
      ],
      "text/plain": [
       "       sepal length (cm)  sepal width (cm)  petal length (cm)  \\\n",
       "count         150.000000        150.000000         150.000000   \n",
       "mean            5.843333          3.057333           3.758000   \n",
       "std             0.828066          0.435866           1.765298   \n",
       "min             4.300000          2.000000           1.000000   \n",
       "25%             5.100000          2.800000           1.600000   \n",
       "50%             5.800000          3.000000           4.350000   \n",
       "75%             6.400000          3.300000           5.100000   \n",
       "max             7.900000          4.400000           6.900000   \n",
       "\n",
       "       petal width (cm)  \n",
       "count        150.000000  \n",
       "mean           1.199333  \n",
       "std            0.762238  \n",
       "min            0.100000  \n",
       "25%            0.300000  \n",
       "50%            1.300000  \n",
       "75%            1.800000  \n",
       "max            2.500000  "
      ]
     },
     "execution_count": 6,
     "metadata": {},
     "output_type": "execute_result"
    }
   ],
   "source": [
    "print('type', type(X))\n",
    "print('shape', X.shape)\n",
    "df.describe()"
   ]
  },
  {
   "cell_type": "code",
   "execution_count": 7,
   "metadata": {},
   "outputs": [
    {
     "name": "stdout",
     "output_type": "stream",
     "text": [
      "nobs      : 150\n",
      "min       : [4.3 2.  1.  0.1]\n",
      "max       : [7.9 4.4 6.9 2.5]\n",
      "mean      : [5.84333333 3.05733333 3.758      1.19933333]\n",
      "variance  : [0.68569351 0.18997942 3.11627785 0.58100626]\n",
      "skewness  : [ 0.31175306  0.31576711 -0.27212767 -0.10193421]\n",
      "kurtosis  : [-0.57356795  0.18097632 -1.39553589 -1.33606741]\n"
     ]
    }
   ],
   "source": [
    "# Prettify to make that more readable.\n",
    "\n",
    "for stat, val in stats.describe(X)._asdict().items():\n",
    "    if stat!='minmax':\n",
    "        print('{:<10}: {}'.format(stat, val))\n",
    "    else:\n",
    "        print('{:<10}: {}'.format('min', val[0]))\n",
    "        print('{:<10}: {}'.format('max', val[1]))"
   ]
  },
  {
   "cell_type": "code",
   "execution_count": 8,
   "metadata": {},
   "outputs": [
    {
     "name": "stdout",
     "output_type": "stream",
     "text": [
      "type:  <class 'numpy.ndarray'>\n",
      "shape:  (150,)\n",
      "Counter({0: 50, 1: 50, 2: 50})\n"
     ]
    }
   ],
   "source": [
    "from collections import Counter\n",
    "print('type: ', type(y))\n",
    "print('shape: ', y.shape)\n",
    "print(Counter(y))"
   ]
  },
  {
   "cell_type": "markdown",
   "metadata": {},
   "source": [
    "# Visualize the Data \n",
    "\n",
    "We see above that the data features are 4-D.\n",
    "Generate two visualizations of the data using Red, Blue, Green for the colors of\n",
    "`setosa`, `versicolor`, `virginica`, respectively.\n",
    "\n",
    "#### Task 2: First, visualize along dimensions 0,1.\n"
   ]
  },
  {
   "cell_type": "code",
   "execution_count": 9,
   "metadata": {},
   "outputs": [
    {
     "data": {
      "text/plain": [
       "([], <a list of 0 Text yticklabel objects>)"
      ]
     },
     "execution_count": 9,
     "metadata": {},
     "output_type": "execute_result"
    },
    {
     "data": {
      "image/png": "[encoded data removed]",
      "text/plain": [
       "<Figure size 432x288 with 1 Axes>"
      ]
     },
     "metadata": {},
     "output_type": "display_data"
    }
   ],
   "source": [
    "# Add code below this comment  (Question #P02)\n",
    "# ----------------------------------\n",
    "\n",
    "#'sepal length (cm)', 'sepal width (cm)'\n",
    "\n",
    "x_min, x_max = X[:, 0].min() - .5, X[:, 0].max() + .5\n",
    "y_min, y_max = X[:, 1].min() - .5, X[:, 1].max() + .5\n",
    "\n",
    "# Plot the training points\n",
    "plt.scatter(X[:, 0], X[:, 1], c=y, cmap=plt.cm.Set1,\n",
    "            edgecolor='k')\n",
    "plt.xlabel('Sepal length')\n",
    "plt.ylabel('Sepal width')\n",
    "\n",
    "plt.xlim(x_min, x_max)\n",
    "plt.ylim(y_min, y_max)\n",
    "plt.xticks(())\n",
    "plt.yticks(())\n",
    "\n"
   ]
  },
  {
   "cell_type": "markdown",
   "metadata": {},
   "source": [
    "#### Task 3: Second, visualize along dimensions 2,3"
   ]
  },
  {
   "cell_type": "code",
   "execution_count": 10,
   "metadata": {},
   "outputs": [
    {
     "data": {
      "text/plain": [
       "([], <a list of 0 Text yticklabel objects>)"
      ]
     },
     "execution_count": 10,
     "metadata": {},
     "output_type": "execute_result"
    },
    {
     "data": {
      "image/png": "[encoded data removed]",
      "text/plain": [
       "<Figure size 432x288 with 1 Axes>"
      ]
     },
     "metadata": {},
     "output_type": "display_data"
    }
   ],
   "source": [
    "# Add code below this comment  (Question #P03)\n",
    "# ----------------------------------\n",
    "\n",
    "# 'petal length (cm)', 'petal width (cm)'\n",
    "\n",
    "\n",
    "x_min, x_max = X[:, 2].min() - .5, X[:, 2].max() + .5\n",
    "y_min, y_max = X[:, 3].min() - .5, X[:, 3].max() + .5\n",
    "\n",
    "# Plot the training points\n",
    "plt.scatter(X[:, 2], X[:, 3], c=y, cmap=plt.cm.Set1,\n",
    "            edgecolor='k')\n",
    "plt.xlabel('Petal length')\n",
    "plt.ylabel('Petal width')\n",
    "\n",
    "plt.xlim(x_min, x_max)\n",
    "plt.ylim(y_min, y_max)\n",
    "plt.xticks(())\n",
    "plt.yticks(())\n"
   ]
  },
  {
   "cell_type": "markdown",
   "metadata": {},
   "source": [
    "### Build a NN model\n",
    "\n",
    "#### Task 4: Define the neural architecture with PyTorch with the following config\n",
    "\n",
    "1. A hidden layer with 2 neurons\n",
    "2. Use sigmoid activation fuction for the hidden layer\n",
    "3. Convert the output layer values to probabilities\n"
   ]
  },
  {
   "cell_type": "code",
   "execution_count": 11,
   "metadata": {},
   "outputs": [],
   "source": [
    "class MyModel(nn.Module):\n",
    "    def __init__(self, D_in, H, D_out):\n",
    "        \"\"\"\n",
    "        D_in: number of input\n",
    "        \"\"\"\n",
    "        super(MyModel, self).__init__()\n",
    "        self.layer1 = nn.Linear(D_in, H) # input to hidden layer\n",
    "        self.layer2 = nn.Linear(H, D_out) # hidden layer to output layer\n",
    "        \n",
    "    def forward(self, x):\n",
    "        h_pred = torch.sigmoid(self.layer1(x)) # activation function after the first hidden layer. Change it to nn.ReLU to see the difference     \n",
    "        y_pred = torch.softmax(self.layer2(h_pred), dim=1) # softmax function: converts numbers to probabilities \n",
    "        return y_pred\n",
    "\n",
    "model = MyModel(X.shape[1], 4, 3)"
   ]
  },
  {
   "cell_type": "code",
   "execution_count": 12,
   "metadata": {},
   "outputs": [
    {
     "name": "stdout",
     "output_type": "stream",
     "text": [
      "Requirement already satisfied: torchsummary in /opt/conda/lib/python3.7/site-packages (1.5.1)\r\n"
     ]
    }
   ],
   "source": [
    "!pip install torchsummary"
   ]
  },
  {
   "cell_type": "code",
   "execution_count": 13,
   "metadata": {},
   "outputs": [
    {
     "name": "stdout",
     "output_type": "stream",
     "text": [
      "----------------------------------------------------------------\n",
      "        Layer (type)               Output Shape         Param #\n",
      "================================================================\n",
      "            Linear-1                    [-1, 4]              20\n",
      "            Linear-2                    [-1, 3]              15\n",
      "================================================================\n",
      "Total params: 35\n",
      "Trainable params: 35\n",
      "Non-trainable params: 0\n",
      "----------------------------------------------------------------\n",
      "Input size (MB): 0.00\n",
      "Forward/backward pass size (MB): 0.00\n",
      "Params size (MB): 0.00\n",
      "Estimated Total Size (MB): 0.00\n",
      "----------------------------------------------------------------\n"
     ]
    }
   ],
   "source": [
    "from torchsummary import summary\n",
    "summary(model, (X.shape[1],))"
   ]
  },
  {
   "cell_type": "markdown",
   "metadata": {},
   "source": [
    "#### Task 5\n",
    "\n",
    "Compile the model with the `Cross Entropy` loss function and `rmsprop` optimizer.\n",
    " \n",
    " "
   ]
  },
  {
   "cell_type": "code",
   "execution_count": 14,
   "metadata": {},
   "outputs": [],
   "source": [
    "# Add code below this comment  (Question #P05)\n",
    "# ----------------------------------\n",
    "\n",
    "loss = nn.CrossEntropyLoss()\n",
    "optimizer = optim.RMSprop(model.parameters(), lr=0.001)  \n"
   ]
  },
  {
   "cell_type": "code",
   "execution_count": null,
   "metadata": {},
   "outputs": [],
   "source": [
    "\n"
   ]
  },
  {
   "cell_type": "markdown",
   "metadata": {},
   "source": [
    "### Divide the Data into Train and Test splits\n",
    "\n",
    "To make this this more fun, we are going to use a 70%/30% split on the training and testing data.\n",
    "\n",
    "#### Task 6: Prepare the data for training the model."
   ]
  },
  {
   "cell_type": "code",
   "execution_count": 15,
   "metadata": {},
   "outputs": [],
   "source": [
    "# Add code below this comment  (Question #P06)\n",
    "# ----------------------------------\n",
    "\n",
    "# scale the data\n",
    "scaler = StandardScaler()\n",
    "X_scaled = scaler.fit_transform(iris.data)\n",
    "\n",
    "# train/test split \n",
    "\n",
    "X_train, X_test, y_train, y_test = train_test_split(X_scaled, y, test_size=0.3)\n",
    "\n",
    "# convert train/test to tensors\n",
    "X_train_tensor = torch.tensor(X_train, dtype=torch.float)\n",
    "X_test_tensor = torch.tensor(X_test, dtype=torch.float)\n",
    "y_train_tensor = torch.tensor(y_train, dtype=torch.long).view(-1, 1)\n",
    "y_test_tensor = torch.tensor(y_test, dtype=torch.long).view(-1, 1)\n",
    "\n",
    "# convert y to one hot encoding: not required if we use cross entropy\n",
    "# y_train_one_hot = nn.functional.one_hot(y_train_tensor)\n",
    "# y_test_one_hot = nn.functional.one_hot(y_test_tensor)\n"
   ]
  },
  {
   "cell_type": "code",
   "execution_count": 16,
   "metadata": {},
   "outputs": [],
   "source": [
    "BATCH_SIZE = 1  # it is possible to feed more than one istances to the model. \n",
    "# These set of instances is called batch. For simplicity, let's keep one instance per batch\n",
    "\n",
    "train_data = TensorDataset(X_train_tensor, y_train_tensor)\n",
    "test_data = TensorDataset(X_test_tensor, y_test_tensor)\n",
    "\n",
    "train_loader = DataLoader(dataset=train_data, batch_size=BATCH_SIZE, shuffle=True)\n",
    "test_loader = DataLoader(dataset=test_data, batch_size=1)"
   ]
  },
  {
   "cell_type": "markdown",
   "metadata": {},
   "source": [
    "### Task 7: Train the model on the train data\n",
    "\n",
    "Choose an appropriate number of epochs and batch size.\n"
   ]
  },
  {
   "cell_type": "code",
   "execution_count": 17,
   "metadata": {},
   "outputs": [
    {
     "name": "stdout",
     "output_type": "stream",
     "text": [
      "Epoch 000: | Total Loss: 117.17812 | Avg Loss: 1.11598 | Training Acc: 0.31\n",
      "Epoch 005: | Total Loss: 110.35481 | Avg Loss: 1.05100 | Training Acc: 0.62\n",
      "Epoch 010: | Total Loss: 103.01418 | Avg Loss: 0.98109 | Training Acc: 0.64\n",
      "Epoch 015: | Total Loss: 96.55419 | Avg Loss: 0.91956 | Training Acc: 0.66\n",
      "Epoch 020: | Total Loss: 91.99868 | Avg Loss: 0.87618 | Training Acc: 0.79\n",
      "Epoch 025: | Total Loss: 88.59614 | Avg Loss: 0.84377 | Training Acc: 0.83\n",
      "Epoch 030: | Total Loss: 85.78951 | Avg Loss: 0.81704 | Training Acc: 0.86\n",
      "Epoch 035: | Total Loss: 83.32998 | Avg Loss: 0.79362 | Training Acc: 0.87\n",
      "Epoch 040: | Total Loss: 81.12580 | Avg Loss: 0.77263 | Training Acc: 0.88\n",
      "Epoch 045: | Total Loss: 79.17857 | Avg Loss: 0.75408 | Training Acc: 0.89\n",
      "Epoch 050: | Total Loss: 77.45630 | Avg Loss: 0.73768 | Training Acc: 0.90\n",
      "Epoch 055: | Total Loss: 75.93139 | Avg Loss: 0.72316 | Training Acc: 0.90\n",
      "Epoch 060: | Total Loss: 74.55614 | Avg Loss: 0.71006 | Training Acc: 0.93\n",
      "Epoch 065: | Total Loss: 73.30190 | Avg Loss: 0.69811 | Training Acc: 0.92\n",
      "Epoch 070: | Total Loss: 72.13101 | Avg Loss: 0.68696 | Training Acc: 0.93\n",
      "Epoch 075: | Total Loss: 71.04651 | Avg Loss: 0.67663 | Training Acc: 0.94\n",
      "Epoch 080: | Total Loss: 70.03890 | Avg Loss: 0.66704 | Training Acc: 0.94\n",
      "Epoch 085: | Total Loss: 69.10445 | Avg Loss: 0.65814 | Training Acc: 0.94\n",
      "Epoch 090: | Total Loss: 68.24991 | Avg Loss: 0.65000 | Training Acc: 0.95\n",
      "Epoch 095: | Total Loss: 67.47047 | Avg Loss: 0.64258 | Training Acc: 0.95\n"
     ]
    }
   ],
   "source": [
    "# Add code below this comment  (Question #P07)\n",
    "# ----------------------------------\n",
    "\n",
    "N_EPOCHS = 100  # In each epoch, the model iterate over all the instances \n",
    "\n",
    "for epoch in range(N_EPOCHS):\n",
    "    epoch_loss = 0\n",
    "    epoch_acc = 0\n",
    "    for x, y in train_loader:\n",
    "        y_pred = model(x)      # Forward pass: get the network output for this instance\n",
    "        l = loss(y_pred, y.view(-1))    # estimate error for this instance\n",
    "        epoch_loss += l.item() # Aggregate error\n",
    "        \n",
    "        optimizer.zero_grad()  # As backward method accumulates gradient, we need to set it to 0\n",
    "        l.backward()           # Backward pass: Estimate gradient \n",
    "        optimizer.step()\n",
    "        \n",
    "        correct = (torch.argmax(y_pred, dim=1) == y).type(torch.FloatTensor)\n",
    "        epoch_acc += correct.item()\n",
    "\n",
    "    if (epoch%5)==0:\n",
    "        print(f'Epoch {epoch+0:03}: | Total Loss: {epoch_loss:.5f} | \\\n",
    "Avg Loss: {epoch_loss/len(train_loader):.5f} | Training Acc: {epoch_acc/len(train_loader):.2f}')"
   ]
  },
  {
   "cell_type": "markdown",
   "metadata": {},
   "source": [
    "----\n",
    "\n",
    "### Task 8: Evaluate your trained model on the on the test data\n",
    "\n",
    "Print the loss and accuracy obtained using model.evaluate(...)."
   ]
  },
  {
   "cell_type": "code",
   "execution_count": 18,
   "metadata": {},
   "outputs": [],
   "source": [
    "# Add code below this comment  (Question #P08)\n",
    "# ----------------------------------\n",
    "\n",
    "model.eval()\n",
    "\n",
    "with torch.no_grad():\n",
    "    y_pred = model(X_test_tensor)\n"
   ]
  },
  {
   "cell_type": "markdown",
   "metadata": {},
   "source": [
    "### Task 9: Interpret the classifier output\n",
    "\n",
    "Run the cell below, then provide your interpretation of the output in the cell below that.  \n"
   ]
  },
  {
   "cell_type": "code",
   "execution_count": 19,
   "metadata": {},
   "outputs": [
    {
     "name": "stdout",
     "output_type": "stream",
     "text": [
      "torch.Size([45, 3])\n",
      "tensor([[1.0644e-04, 7.9531e-02, 9.2036e-01],\n",
      "        [5.4575e-03, 8.3385e-01, 1.6069e-01],\n",
      "        [8.9844e-03, 9.8165e-01, 9.3673e-03],\n",
      "        [9.8739e-01, 1.2605e-02, 2.8195e-06],\n",
      "        [9.2436e-04, 2.9813e-01, 7.0095e-01],\n",
      "        [8.7218e-05, 5.5366e-02, 9.4455e-01],\n",
      "        [9.8824e-01, 1.1761e-02, 3.0633e-06],\n",
      "        [2.1283e-03, 9.7999e-01, 1.7877e-02],\n",
      "        [6.4994e-02, 7.8127e-01, 1.5373e-01],\n",
      "        [9.8817e-01, 1.1832e-02, 2.7421e-06],\n",
      "        [9.8835e-01, 1.1649e-02, 2.6465e-06],\n",
      "        [9.8808e-01, 1.1917e-02, 2.7956e-06],\n",
      "        [9.8821e-01, 1.1790e-02, 3.1952e-06],\n",
      "        [7.1376e-03, 9.7832e-01, 1.4539e-02],\n",
      "        [9.8707e-01, 1.2926e-02, 2.8128e-06],\n",
      "        [9.8763e-01, 1.2367e-02, 3.0309e-06],\n",
      "        [8.0981e-04, 5.1230e-01, 4.8689e-01],\n",
      "        [1.7624e-03, 8.6189e-01, 1.3635e-01],\n",
      "        [4.7750e-03, 8.0128e-01, 1.9394e-01],\n",
      "        [9.8794e-01, 1.2054e-02, 2.8040e-06],\n",
      "        [2.3310e-04, 1.8324e-01, 8.1652e-01],\n",
      "        [1.9825e-02, 9.0919e-01, 7.0986e-02],\n",
      "        [8.0271e-05, 6.0916e-02, 9.3900e-01],\n",
      "        [1.2298e-04, 8.8312e-02, 9.1156e-01],\n",
      "        [9.8767e-01, 1.2327e-02, 2.8979e-06],\n",
      "        [9.8838e-01, 1.1621e-02, 3.0428e-06],\n",
      "        [6.2925e-05, 5.3036e-02, 9.4690e-01],\n",
      "        [9.7177e-05, 6.4991e-02, 9.3491e-01],\n",
      "        [1.7641e-03, 1.2357e-01, 8.7467e-01],\n",
      "        [3.0063e-02, 8.0068e-01, 1.6925e-01],\n",
      "        [6.2074e-05, 5.2824e-02, 9.4711e-01],\n",
      "        [9.8832e-01, 1.1682e-02, 2.8349e-06],\n",
      "        [9.8632e-01, 1.3675e-02, 3.5449e-06],\n",
      "        [1.4072e-02, 9.3669e-01, 4.9236e-02],\n",
      "        [1.0199e-04, 8.0004e-02, 9.1989e-01],\n",
      "        [9.7753e-04, 6.7869e-01, 3.2033e-01],\n",
      "        [2.1454e-04, 1.7706e-01, 8.2272e-01],\n",
      "        [9.8610e-01, 1.3896e-02, 3.2107e-06],\n",
      "        [2.6842e-04, 7.3963e-02, 9.2577e-01],\n",
      "        [6.6789e-05, 5.5918e-02, 9.4402e-01],\n",
      "        [9.8822e-01, 1.1778e-02, 3.3109e-06],\n",
      "        [3.1626e-04, 1.3762e-01, 8.6207e-01],\n",
      "        [2.2575e-04, 1.5461e-01, 8.4516e-01],\n",
      "        [9.8808e-01, 1.1921e-02, 2.7058e-06],\n",
      "        [9.8698e-01, 1.3019e-02, 3.6542e-06]])\n"
     ]
    }
   ],
   "source": [
    "print(y_pred.shape)\n",
    "print(y_pred)"
   ]
  },
  {
   "cell_type": "raw",
   "metadata": {},
   "source": [
    "# Add interpretation below this comment  (Question #P09)\n",
    "# ----------------------------------\n",
    "\n",
    "\n",
    "\n"
   ]
  },
  {
   "cell_type": "markdown",
   "metadata": {},
   "source": [
    "### Task 10: Print the predicted Class Label, then generate a confusion matrix and flassification report\n",
    " * Review the documentation: https://docs.scipy.org/doc/numpy/reference/generated/numpy.argmax.html"
   ]
  },
  {
   "cell_type": "code",
   "execution_count": 20,
   "metadata": {},
   "outputs": [
    {
     "name": "stdout",
     "output_type": "stream",
     "text": [
      "tensor([2, 1, 1, 0, 2, 2, 0, 1, 1, 0, 0, 0, 0, 1, 0, 0, 1, 1, 1, 0, 2, 1, 2, 2,\n",
      "        0, 0, 2, 2, 2, 1, 2, 0, 0, 1, 2, 1, 2, 0, 2, 2, 0, 2, 2, 0, 0])\n",
      "[[17  0  0]\n",
      " [ 0 11  1]\n",
      " [ 0  1 15]]\n",
      "              precision    recall  f1-score   support\n",
      "\n",
      "           0       1.00      1.00      1.00        17\n",
      "           1       0.92      0.92      0.92        12\n",
      "           2       0.94      0.94      0.94        16\n",
      "\n",
      "   micro avg       0.96      0.96      0.96        45\n",
      "   macro avg       0.95      0.95      0.95        45\n",
      "weighted avg       0.96      0.96      0.96        45\n",
      "\n"
     ]
    }
   ],
   "source": [
    "# Fix code below this comment  (Question #P10)\n",
    "# ----------------------------------\n",
    "\n",
    "from sklearn.metrics import classification_report, confusion_matrix\n",
    "\n",
    "pred_class = np.argmax(y_pred, axis=1)\n",
    "print(pred_class)\n",
    "\n",
    "\n",
    "\n",
    "print(confusion_matrix(y_test, pred_class))\n",
    "print(classification_report(y_test, pred_class))"
   ]
  },
  {
   "cell_type": "markdown",
   "metadata": {},
   "source": [
    "---\n",
    "\n",
    "## This notebook should include things that you are adding to your toolchest in terms of using Scikit-Learn and PyTorch\n",
    "\n",
    "---\n",
    "\n",
    "# Save your notebook, then `File > Close and Halt`"
   ]
  },
  {
   "cell_type": "code",
   "execution_count": null,
   "metadata": {},
   "outputs": [],
   "source": []
  }
 ],
 "metadata": {
  "kernelspec": {
   "display_name": "Python 3",
   "language": "python",
   "name": "python3"
  },
  "language_info": {
   "codemirror_mode": {
    "name": "ipython",
    "version": 3
   },
   "file_extension": ".py",
   "mimetype": "text/x-python",
   "name": "python",
   "nbconvert_exporter": "python",
   "pygments_lexer": "ipython3",
   "version": "3.7.3"
  }
 },
 "nbformat": 4,
 "nbformat_minor": 2
}
