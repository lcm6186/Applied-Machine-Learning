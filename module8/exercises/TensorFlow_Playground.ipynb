{
 "cells": [
  {
   "cell_type": "markdown",
   "metadata": {},
   "source": [
    "# Module 8 : Tensor Flow Playground Exercise"
   ]
  },
  {
   "cell_type": "markdown",
   "metadata": {},
   "source": [
    "For this exercise, you will focus on interpretation and understanding of neural network behavior in the context of:\n",
    " 1. Input (Data)\n",
    " 1. Architecture\n",
    " 1. Activation Functions\n",
    " 1. Resulting Decision Planes\n",
    " 1. Hyper-parameter Tuning\n",
    "\n",
    "The link below should open the TensorFlow NN Playground to the simple data set.\n",
    "\n",
    "![TFPG_DS_2_blobs.png MISSING](../images/TFPG_DS_2_blobs.png)\n",
    "\n",
    "[Access the TensorFlow Playground](https://playground.tensorflow.org/#activation=linear&batchSize=10&dataset=gauss&regDataset=reg-plane&learningRate=0.00001&regularizationRate=0&noise=0&networkShape=1,1&seed=0.44359&showTestData=false&discretize=false&percTrainData=50&x=true&y=true&xTimesY=false&xSquared=false&ySquared=false&cosX=false&sinX=false&cosY=false&sinY=false&collectStats=false&problem=classification&initZero=false&hideText=false)\n",
    "\n",
    "\n"
   ]
  },
  {
   "cell_type": "markdown",
   "metadata": {},
   "source": [
    "# Question 1\n",
    "\n",
    "#### Dataset\n",
    "\n",
    "![data](../images/Gaussian-Data.png)\n",
    "\n",
    "#### Set the hyperparameters as follows:\n",
    " * Learnign Rate : <span style=\"background:yellow\">0.003</span> \n",
    " * Activation : <span style=\"background:yellow\">Linear</span>  \n",
    " * Regularization : <span style=\"background:yellow\">None</span>  \n",
    " * Regularization Rate : <span style=\"background:yellow\">0</span>  \n",
    " \n",
    " \n",
    "**Your hyperparameter bar should like below**\n",
    "![TFPG_HyperParameter_Bar.png MISSING](../images/TFPG_HyperParameter_Bar.png) \n",
    "\n",
    "\n",
    "#### Architecture:\n",
    " Start with a 2 hidden layers, one neuron each, only taking as input $X_1$ and $X_2$.\n",
    "\n",
    "![TFPG_E1_Architecture.png MISSING](../images/TFPG_E1_Architecture.png) \n"
   ]
  },
  {
   "cell_type": "markdown",
   "metadata": {},
   "source": [
    "#### Task E1\n",
    "  When you are ready, click the play button and watch the model's **training loss**.\n",
    "  When the loss reaches 0.0, pause the training (clicking the button again).\n",
    "  \n",
    "  The result should look similar to:\n",
    "  \n",
    "  ![TFPG_E1_sample_output.png MISSING](../images/TFPG_E1_sample_output.png)\n",
    "  \n",
    "  **Q**: How many epochs did you need to get the training loss down to 0.0?\n",
    "  \n",
    "  "
   ]
  },
  {
   "cell_type": "raw",
   "metadata": {},
   "source": [
    "# E1: Write your Answer Below\n",
    "# ----------------------------\n",
    "\n",
    "I was able to stop the model at 380 epochs when the model hit 0.000 training loss.\n",
    "\n",
    "\n"
   ]
  },
  {
   "cell_type": "markdown",
   "metadata": {},
   "source": [
    "#### Capture a screen shot of your trained model and embed it \n",
    "**In this Cell, Double Click**, then Adjust the file name at the bottom image markdown after you upload it to the `module8/exercises` folder\n",
    " * For example, you may need to adjust the file extension.\n",
    " \n",
    "```\n",
    "![M8_E1_image.png MISSING](./M8_E1_image.png) --> (./M8_E1_image.jpeg)\n",
    "```\n",
    "\n",
    "![MISSING <change here>](./M8_E1_image.JPG)"
   ]
  },
  {
   "cell_type": "code",
   "execution_count": null,
   "metadata": {
    "collapsed": true
   },
   "outputs": [],
   "source": []
  },
  {
   "cell_type": "markdown",
   "metadata": {},
   "source": [
    "----\n",
    "\n",
    "# Question 2\n",
    "\n",
    "#### Set the hyperparameters as follows:\n",
    " * Learnign Rate : <span style=\"background:yellow\">0.003</span> \n",
    " * **Activation** : <span style=\"background:yellow\">Sigmoid</span>  \n",
    " * Regularization : <span style=\"background:yellow\">None</span>  \n",
    " * Regularization Rate : <span style=\"background:yellow\">0</span>  \n",
    " \n",
    "\n",
    "#### Architecture:\n",
    " * Input : Only $X_1$ and $X_2$\n",
    " * 1 first hidden layer neuron \n",
    " * 1 second hidden layer neuron \n",
    "\n",
    "\n",
    "#### Task E2:\n",
    "  When you are ready, click the play button and watch the model's **training loss**.\n",
    "  When the loss reaches 0.0, pause the training (clicking the button again).\n",
    "  \n",
    "  **Q**: What is a difference you observe just by changing the activation function?\n",
    "  \n",
    "  "
   ]
  },
  {
   "cell_type": "raw",
   "metadata": {},
   "source": [
    "# E2 Write your Answer Below\n",
    "# ----------------------------\n",
    "\n",
    "For this trial, I ran ~ 1,000 epochs before reaching 0.0 training loss. It held at ~ 0.5 training loss for the first 500 epochs, then began to drop as it approached 1,000. \n",
    "\n",
    "So more were needed once the function was switched.\n",
    "\n",
    "\n"
   ]
  },
  {
   "cell_type": "markdown",
   "metadata": {},
   "source": [
    "----\n",
    "\n",
    "# Question 3\n",
    "\n",
    "## Change to Four-Quadrant Data Set\n",
    "\n",
    "![TFPG_4_Quad_DS.png MISSING](../images/TFPG_4_Quad_DS.png)\n",
    "\n",
    "#### Set the hyperparameters as follows:\n",
    " * Learnign Rate : <span style=\"background:yellow\">0.003</span> \n",
    " * **Activation** : <span style=\"background:yellow\">Linear</span>  \n",
    " * Regularization : <span style=\"background:yellow\">None</span>  \n",
    " * Regularization Rate : <span style=\"background:yellow\">0</span>  \n",
    " \n",
    "\n",
    "#### Architecture:\n",
    " * Input : Only $X_1$ and $X_2$\n",
    " * 1 first hidden layer neuron \n",
    " * 1 second hidden layer neuron \n",
    "\n",
    "#### Task E3:\n",
    "  When you are ready, click the play button and watch the model's **training loss**.\n",
    "  Let training run for 3,000 epochs.\n",
    "    \n",
    "  **Q**: Based on your readings and the videos, why did the NN not converge to near zero loss?\n",
    "  \n",
    "  "
   ]
  },
  {
   "cell_type": "raw",
   "metadata": {},
   "source": [
    "# E3 Write your Answer Below\n",
    "# ----------------------------\n",
    "\n",
    "From what I see, this is becuase we chose a linear activation with this particular (call it quadrant) dataset. A linear classification on this dataset was always going to only be about 50% accurate no matter how we sliced it (if you did it down the middle that is) so the training loss hit a point where there wasn't really much more a linear model could give us for this classification problem.\n",
    "\n",
    "\n",
    "\n"
   ]
  },
  {
   "cell_type": "markdown",
   "metadata": {},
   "source": [
    "----\n",
    "\n",
    "# Question 4\n",
    "\n",
    "You will now adjust the activation type and the number of hidden layers to build a good classifier.\n",
    "Please keep track of what you try and log the efforts (Activation Fuction, Neuron Architecture, Final Loss, Epochs of training).\n",
    "\n",
    "**Constraint:** Try to keep the learning rate at 0.003 and only use the inputs $X_1$ and $X_2$.\n",
    "\n",
    "**Goal:** Get the training loss below 0.01; if you can down to 0.001.\n",
    "\n",
    "**Capture:** A screen shot of your final trained model.\n",
    "\n",
    "\n",
    "#### Set the hyperparameters as follows:\n",
    " * Learnign Rate : <span style=\"background:yellow\">0.003</span> \n",
    " * **Activation** : <span style=\"background:yellow\"> Experiment</span>  \n",
    " * Regularization : <span style=\"background:yellow\">None</span>  \n",
    " * Regularization Rate : <span style=\"background:yellow\">0</span>  \n",
    " \n",
    "\n",
    "#### Architecture:\n",
    " * Input : Only $X_1$ and $X_2$\n",
    " * <span style=\"background:yellow\"> Experiment with </span> hidden layers \n",
    "\n",
    "\n",
    "#### Task E4:\n",
    "\n",
    "**For each architecture you evaluated**\n",
    " * **Q**: Describe your final architecture\n",
    " * **Q**: Detail your hyperparameters\n",
    " * **Q**: How many epochs, and what was your final loss\n",
    "  \n",
    "**Final Q**: What are you take-aways you have from this exercise in regards to architecture versus decision surfaces? "
   ]
  },
  {
   "cell_type": "raw",
   "metadata": {},
   "source": [
    "# E4 Write your Answer Below\n",
    "# ----------------------------\n",
    "\n",
    "For this I chose\n",
    "Activation = Tanh\n",
    "3 Hidden layers with 3 neurons each.\n",
    "\n",
    "This model effectively hit 0.007 training loss after ~ 2,000 epochs. \n",
    "\n",
    "One thing I have seen is the more complex the decision surface (in this case 2 variables in 4 quadrants on the plane) the more complexity is needed in the model, which resulted in the 3 layers with 3 neurons each.\n"
   ]
  },
  {
   "cell_type": "markdown",
   "metadata": {},
   "source": [
    "#### Capture a screen shot of your final trained model and embed it \n",
    "\n",
    "\n",
    "![E4_image.png MISSING <change here>](./M8_E4_image.JPG)"
   ]
  },
  {
   "cell_type": "markdown",
   "metadata": {},
   "source": [
    "----\n",
    "\n",
    "# Question 5\n",
    "\n",
    "Using the Architecture you found as best above, change data sets to the enclosing configuration.\n",
    "\n",
    "![TFPG_Enclosed_DS.png MISSING](../images/TFPG_Enclosed_DS.png)\n",
    "\n",
    "#### Set the hyperparameters as follows:\n",
    "**<span style=\"background:yellow\">Experiment</span>**\n",
    " \n",
    "\n",
    "#### Architecture:\n",
    "**<span style=\"background:yellow\">Locked to Final Architecture of Exercise Question 4.</span>**\n",
    "\n",
    "\n",
    "#### Task E5\n",
    "  \n",
    "  **Q**: Provide a detailed assessment of what you observed and any changes you made to the hyper parameters.\n",
    " Pay special attention to discussion of the results decision surfaces, error, and epohcs.\n",
    "  \n",
    "  "
   ]
  },
  {
   "cell_type": "raw",
   "metadata": {},
   "source": [
    "# E5 Write your Answer Below\n",
    "# ----------------------------\n",
    "\n",
    "\n",
    "For this dataset, I kept all parameters the same as what I ran in the previous question. This model did surprisingly well on this new dataset, able to achieve Training loss of 0.000 at ~2,000 epochs. It took the 3rd neuron in order to produce the circle in the center to achieve the best results in classification.\n",
    "\n"
   ]
  },
  {
   "cell_type": "markdown",
   "metadata": {},
   "source": [
    "#### Capture a screen shot of your trained model and embed it \n",
    "\n",
    "\n",
    "![E5_image.png MISSING](./M8_E5_image.JPG)"
   ]
  },
  {
   "cell_type": "markdown",
   "metadata": {},
   "source": [
    "----\n",
    "\n",
    "# M5 Exercise Question 6\n",
    "\n",
    "**Starting** with the Architecture you found as best in Exercise Q6, change data sets to the spiral configuration.\n",
    "\n",
    "![TFPG_Enclosed_DS.png MISSING](../images/TFPG_Spiral_DS.png)\n",
    "\n",
    "\n",
    "#### Set the hyperparameters as follows:\n",
    "**<span style=\"background:yellow\">Experiment</span>**\n",
    "\n",
    "#### Architecture:\n",
    "**<span style=\"background:yellow\">Locked to Final Architecture of Exercise Question 4.</span>**\n",
    "\n",
    "\n",
    "#### Task E6\n",
    "  Your goal is the get the lowest training and testing loss with the fewest epochs.\n",
    "  Do what ever it takes!\n",
    "  \n",
    "  **Q**: Describe your \"fun\" with this question!\n",
    "  "
   ]
  },
  {
   "cell_type": "raw",
   "metadata": {},
   "source": [
    "# E6 Write your Answer Below\n",
    "# ----------------------------\n",
    "\n",
    "This model was fun to play with. I essentially overloaded the hyperparameters with 8 neurons each on 4 layers. This did the trick eventually (at ~3,000 epochs) but had a very strange blip in the model about 3/4 through. Watching the visualization on the right this was as the model was trying to figure out the curve in the middle. It flipped back and forth for a while as you can see in the output graph with training loss almost going all the way back up to the top at one point. \n",
    "\n",
    "Eventually the layers settled down and produced a strong model with 0.001 training loss!\n",
    "\n"
   ]
  },
  {
   "cell_type": "markdown",
   "metadata": {},
   "source": [
    "#### Capture a screen shot that includes data set, hyperparameters, architecture, and results model (decision surfaces).\n",
    "\n",
    "\n",
    "![E6_image.png MISSING](./M8_E6_image.JPG)"
   ]
  },
  {
   "cell_type": "markdown",
   "metadata": {},
   "source": [
    "# Save your notebook, then `File > Close and Halt`"
   ]
  }
 ],
 "metadata": {
  "kernelspec": {
   "display_name": "Python 3",
   "language": "python",
   "name": "python3"
  },
  "language_info": {
   "codemirror_mode": {
    "name": "ipython",
    "version": 3
   },
   "file_extension": ".py",
   "mimetype": "text/x-python",
   "name": "python",
   "nbconvert_exporter": "python",
   "pygments_lexer": "ipython3",
   "version": "3.7.3"
  }
 },
 "nbformat": 4,
 "nbformat_minor": 2
}
