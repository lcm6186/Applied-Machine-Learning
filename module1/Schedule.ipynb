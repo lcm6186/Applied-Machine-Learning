{
 "cells": [
  {
   "cell_type": "markdown",
   "metadata": {},
   "source": [
    "# 1 \n",
    "# Introduction to Machine Learning"
   ]
  },
  {
   "cell_type": "markdown",
   "metadata": {},
   "source": [
    "## Module Topics\n",
    "\n",
    "* Machine Learning Overview\n",
    "  * ML versus PR, DM, and Stat\n",
    "  * Supvervised vs Unsupervised vs Reinforcement\n",
    "  * Machine Learning Workflows\n",
    "     * Training\n",
    "     * Testing\n",
    "  * Supervised ML\n",
    "     * Baseline classifier\n",
    "     * Classification\n",
    "\n"
   ]
  },
  {
   "cell_type": "markdown",
   "metadata": {},
   "source": [
    "# Free Books, Book Chapters, and Articles on Machine Learning\n",
    "\n",
    "No text book is required for this course. If you are interested in reading some of the topics discussed in this course, here is a list of [free](./resources/free-books.ipynb) books that you can consider. \n"
   ]
  },
  {
   "cell_type": "markdown",
   "metadata": {},
   "source": [
    "## Readings\n",
    "\n",
    "* Course Overview [[video](https://youtu.be/UUiRrGEksCw)] [[slides](../module0/slides/course-overview.pdf)]\n",
    "* ML Overview [[video](https://youtu.be/LbFdbfYbnyM)] [[slides](./slides/ml-overview.pdf)]\n",
    "* Scikit-learn Overview [[video](https://youtu.be/vbTAGtTjY8E)] [[slides](./slides/sklearn-overview.pdf)]\n",
    "* SL: Classification \n",
    "    * Classification Overview [[video](https://youtu.be/DRiX8R-mgVg)] [[slides](./slides/classification-overview.pdf)]\n",
    "    * Decision Tree [[video](https://youtu.be/Q7swp6MTmc8)] [[slides](./slides/decision-tree.pdf)]\n",
    "* Evaluation measures [[video](https://www.youtube.com/watch?v=eakdRu-hqqA&list=PLU96UK-VChhn5guLMi_Y5VRo82xmFpHSg&index=14)] [[slides](./slides/DATA_SCI_8614_M1_Model_Metrics.pdf)]\n",
    "\n",
    "\n",
    "\n",
    "## Additional Readings (Optional)\n",
    "  * Textbooks\n",
    "      * Ch 08: An Introduction to Statistical Learning\n",
    "      * Ch 18: Understanding Machine Learning: From Theory to Algorithms\n",
    "  * [Wikipedia - Machine Learning](https://en.wikipedia.org/wiki/Machine_learning)\n",
    "  * [Machine Learning: An In-Depth Guide - Overview...Pt 1](https://www.innoarchitech.com/machine-learning-an-in-depth-non-technical-guide/)\n",
    "  * [Machine Learning: An In-Depth Guide - Overview...Pt 2](https://www.innoarchitech.com/machine-learning-an-in-depth-non-technical-guide-part-2/)\n",
    "  * [Machine Learning: An In-Depth Guide - Overview...Pt 3](https://www.innoarchitech.com/machine-learning-an-in-depth-non-technical-guide-part-3/)\n",
    "  * [Machine Learning: An In-Depth Guide - Overview...Pt 4](https://www.innoarchitech.com/machine-learning-an-in-depth-non-technical-guide-part-4/)\n",
    "  * [Machine Learning: An In-Depth Guide - Overview...Pt 5](https://www.innoarchitech.com/machine-learning-an-in-depth-non-technical-guide-part-5/)\n",
    " "
   ]
  },
  {
   "cell_type": "markdown",
   "metadata": {},
   "source": [
    "<span style=\"background:yellow\">** NOTE: Pick `DMIR` container for running these notebooks**</span>\n",
    "\n",
    "\n",
    "\n",
    "## Labs\n",
    "\n",
    "The goal of the labs this module are to refresh you on some basic machine learning you have seen before.\n",
    "The labs are using the Python Scikit-Learn package and some simple ML examples.\n",
    "\n",
    "  * [Data Preprocessing: Missing Values](./labs/Preprocessing.ipynb)\n",
    "  * [ML Training and Testing](./labs/TrainAndTest-DT.ipynb)\n",
    "  * Classification\n",
    "      * [Base-line Classifier](./labs/Baseline-Classifiers.ipynb)\n",
    "      * [Decision Tree Classifier](./labs/Classification-DT.ipynb)\n",
    "      \n"
   ]
  },
  {
   "cell_type": "markdown",
   "metadata": {},
   "source": [
    "## Practices\n",
    "\n",
    "  * [ML Training and Testing](./practices/TrainAndTest-DT.ipynb)\n"
   ]
  },
  {
   "cell_type": "markdown",
   "metadata": {},
   "source": [
    "## Exercises\n",
    "\n",
    "  * [ML Training and Testing](./exercises/TrainAndTest-DT.ipynb)\n"
   ]
  },
  {
   "cell_type": "markdown",
   "metadata": {},
   "source": [
    "## Submitting your work\n",
    "\n",
    "#### Steps:\n",
    "  1. Open Terminal in JupyterHub\n",
    "  1. Change into the course folder\n",
    "  1. Stage (Git Add) the module's practive and exercise work   \n",
    "  `git  add   module1/practices    module1/exercises`\n",
    "  1. Create your work snapshot (Git Commit)  \n",
    "  `git   commit   -m   \"Module 1 submission\"`\n",
    "  1. Upload the snapshot to the server (Git Push)  \n",
    "  `git   push`\n"
   ]
  },
  {
   "cell_type": "markdown",
   "metadata": {},
   "source": [
    "## Congratulations, you have completed the learning activities for this module!"
   ]
  }
 ],
 "metadata": {
  "kernelspec": {
   "display_name": "Python 3",
   "language": "python",
   "name": "python3"
  },
  "language_info": {
   "codemirror_mode": {
    "name": "ipython",
    "version": 3
   },
   "file_extension": ".py",
   "mimetype": "text/x-python",
   "name": "python",
   "nbconvert_exporter": "python",
   "pygments_lexer": "ipython3",
   "version": "3.7.3"
  }
 },
 "nbformat": 4,
 "nbformat_minor": 4
}
