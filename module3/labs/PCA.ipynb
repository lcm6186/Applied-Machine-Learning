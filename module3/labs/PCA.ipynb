{
 "cells": [
  {
   "cell_type": "markdown",
   "metadata": {},
   "source": [
    "# Module 3: Principal componentent analysis\n",
    "\n",
    "In this lab you will learn about **Principal componentent analysis** (PCA).\n",
    "It is a linear transformation that transforms data points into feature space representation,\n",
    "which has the following properties:\n",
    "\n",
    "+ Exactly the **same** dimension as the original data space\n",
    "+ Reconstruction of data points is optimal in the mean-square-error sense.\n",
    "+ Principal components are sorted by \"effectiveness\" at capturing variance.\n",
    "+ Dimensionality reduction can be done simply by truncating (down selecting the number of) principal components.\n",
    "\n",
    "For this session, we are going to use **red wine quality** dataset for principal componentent analysis \n",
    "and transform its data space into feature space with top 5 principal components.\n",
    "\n",
    "sklearn API reference:\n",
    "\n",
    "+ [sklearn.decomposition.PCA](http://scikit-learn.org/stable/modules/generated/sklearn.decomposition.PCA.html)\n",
    "\n",
    "\n",
    "**Note:** Previously you saw PCA in the 8610 (Stat/Math) course."
   ]
  },
  {
   "cell_type": "code",
   "execution_count": 1,
   "metadata": {},
   "outputs": [],
   "source": [
    "%matplotlib inline\n",
    "import matplotlib.pyplot as plt\n",
    "\n",
    "import os, sys\n",
    "import numpy as np\n",
    "import pandas as pd\n",
    "from sklearn.decomposition import PCA\n",
    "from sklearn.preprocessing import scale"
   ]
  },
  {
   "cell_type": "markdown",
   "metadata": {},
   "source": [
    "## Load dataset"
   ]
  },
  {
   "cell_type": "code",
   "execution_count": 2,
   "metadata": {},
   "outputs": [
    {
     "name": "stdout",
     "output_type": "stream",
     "text": [
      "(1599, 12)\n"
     ]
    },
    {
     "data": {
      "text/html": [
       "<div>\n",
       "<style scoped>\n",
       "    .dataframe tbody tr th:only-of-type {\n",
       "        vertical-align: middle;\n",
       "    }\n",
       "\n",
       "    .dataframe tbody tr th {\n",
       "        vertical-align: top;\n",
       "    }\n",
       "\n",
       "    .dataframe thead th {\n",
       "        text-align: right;\n",
       "    }\n",
       "</style>\n",
       "<table border=\"1\" class=\"dataframe\">\n",
       "  <thead>\n",
       "    <tr style=\"text-align: right;\">\n",
       "      <th></th>\n",
       "      <th>fixed acidity</th>\n",
       "      <th>volatile acidity</th>\n",
       "      <th>citric acid</th>\n",
       "      <th>residual sugar</th>\n",
       "      <th>chlorides</th>\n",
       "      <th>free sulfur dioxide</th>\n",
       "      <th>total sulfur dioxide</th>\n",
       "      <th>density</th>\n",
       "      <th>pH</th>\n",
       "      <th>sulphates</th>\n",
       "      <th>alcohol</th>\n",
       "    </tr>\n",
       "  </thead>\n",
       "  <tbody>\n",
       "    <tr>\n",
       "      <th>count</th>\n",
       "      <td>1.599000e+03</td>\n",
       "      <td>1.599000e+03</td>\n",
       "      <td>1.599000e+03</td>\n",
       "      <td>1.599000e+03</td>\n",
       "      <td>1.599000e+03</td>\n",
       "      <td>1.599000e+03</td>\n",
       "      <td>1.599000e+03</td>\n",
       "      <td>1.599000e+03</td>\n",
       "      <td>1.599000e+03</td>\n",
       "      <td>1.599000e+03</td>\n",
       "      <td>1.599000e+03</td>\n",
       "    </tr>\n",
       "    <tr>\n",
       "      <th>mean</th>\n",
       "      <td>6.176700e-16</td>\n",
       "      <td>3.318866e-17</td>\n",
       "      <td>3.943757e-17</td>\n",
       "      <td>-1.666376e-16</td>\n",
       "      <td>1.617773e-17</td>\n",
       "      <td>-5.599023e-16</td>\n",
       "      <td>1.279777e-15</td>\n",
       "      <td>4.554761e-17</td>\n",
       "      <td>4.396455e-16</td>\n",
       "      <td>-1.077590e-16</td>\n",
       "      <td>-1.693038e-15</td>\n",
       "    </tr>\n",
       "    <tr>\n",
       "      <th>std</th>\n",
       "      <td>1.741096e+00</td>\n",
       "      <td>1.790597e-01</td>\n",
       "      <td>1.948011e-01</td>\n",
       "      <td>1.409928e+00</td>\n",
       "      <td>4.706530e-02</td>\n",
       "      <td>1.046016e+01</td>\n",
       "      <td>3.289532e+01</td>\n",
       "      <td>1.887334e-03</td>\n",
       "      <td>1.543865e-01</td>\n",
       "      <td>1.695070e-01</td>\n",
       "      <td>1.065668e+00</td>\n",
       "    </tr>\n",
       "    <tr>\n",
       "      <th>min</th>\n",
       "      <td>-3.719637e+00</td>\n",
       "      <td>-4.078205e-01</td>\n",
       "      <td>-2.709756e-01</td>\n",
       "      <td>-1.638806e+00</td>\n",
       "      <td>-7.546654e-02</td>\n",
       "      <td>-1.487492e+01</td>\n",
       "      <td>-4.046779e+01</td>\n",
       "      <td>-6.676679e-03</td>\n",
       "      <td>-5.711132e-01</td>\n",
       "      <td>-3.281488e-01</td>\n",
       "      <td>-2.022983e+00</td>\n",
       "    </tr>\n",
       "    <tr>\n",
       "      <th>25%</th>\n",
       "      <td>-1.219637e+00</td>\n",
       "      <td>-1.378205e-01</td>\n",
       "      <td>-1.809756e-01</td>\n",
       "      <td>-6.388055e-01</td>\n",
       "      <td>-1.746654e-02</td>\n",
       "      <td>-8.874922e+00</td>\n",
       "      <td>-2.446779e+01</td>\n",
       "      <td>-1.146679e-03</td>\n",
       "      <td>-1.011132e-01</td>\n",
       "      <td>-1.081488e-01</td>\n",
       "      <td>-9.229831e-01</td>\n",
       "    </tr>\n",
       "    <tr>\n",
       "      <th>50%</th>\n",
       "      <td>-4.196373e-01</td>\n",
       "      <td>-7.820513e-03</td>\n",
       "      <td>-1.097561e-02</td>\n",
       "      <td>-3.388055e-01</td>\n",
       "      <td>-8.466542e-03</td>\n",
       "      <td>-1.874922e+00</td>\n",
       "      <td>-8.467792e+00</td>\n",
       "      <td>3.320826e-06</td>\n",
       "      <td>-1.113196e-03</td>\n",
       "      <td>-3.814884e-02</td>\n",
       "      <td>-2.229831e-01</td>\n",
       "    </tr>\n",
       "    <tr>\n",
       "      <th>75%</th>\n",
       "      <td>8.803627e-01</td>\n",
       "      <td>1.121795e-01</td>\n",
       "      <td>1.490244e-01</td>\n",
       "      <td>6.119450e-02</td>\n",
       "      <td>2.533458e-03</td>\n",
       "      <td>5.125078e+00</td>\n",
       "      <td>1.553221e+01</td>\n",
       "      <td>1.088321e-03</td>\n",
       "      <td>8.888680e-02</td>\n",
       "      <td>7.185116e-02</td>\n",
       "      <td>6.770169e-01</td>\n",
       "    </tr>\n",
       "    <tr>\n",
       "      <th>max</th>\n",
       "      <td>7.580363e+00</td>\n",
       "      <td>1.052179e+00</td>\n",
       "      <td>7.290244e-01</td>\n",
       "      <td>1.296119e+01</td>\n",
       "      <td>5.235335e-01</td>\n",
       "      <td>5.612508e+01</td>\n",
       "      <td>2.425322e+02</td>\n",
       "      <td>6.943321e-03</td>\n",
       "      <td>6.988868e-01</td>\n",
       "      <td>1.341851e+00</td>\n",
       "      <td>4.477017e+00</td>\n",
       "    </tr>\n",
       "  </tbody>\n",
       "</table>\n",
       "</div>"
      ],
      "text/plain": [
       "       fixed acidity  volatile acidity   citric acid  residual sugar  \\\n",
       "count   1.599000e+03      1.599000e+03  1.599000e+03    1.599000e+03   \n",
       "mean    6.176700e-16      3.318866e-17  3.943757e-17   -1.666376e-16   \n",
       "std     1.741096e+00      1.790597e-01  1.948011e-01    1.409928e+00   \n",
       "min    -3.719637e+00     -4.078205e-01 -2.709756e-01   -1.638806e+00   \n",
       "25%    -1.219637e+00     -1.378205e-01 -1.809756e-01   -6.388055e-01   \n",
       "50%    -4.196373e-01     -7.820513e-03 -1.097561e-02   -3.388055e-01   \n",
       "75%     8.803627e-01      1.121795e-01  1.490244e-01    6.119450e-02   \n",
       "max     7.580363e+00      1.052179e+00  7.290244e-01    1.296119e+01   \n",
       "\n",
       "          chlorides  free sulfur dioxide  total sulfur dioxide       density  \\\n",
       "count  1.599000e+03         1.599000e+03          1.599000e+03  1.599000e+03   \n",
       "mean   1.617773e-17        -5.599023e-16          1.279777e-15  4.554761e-17   \n",
       "std    4.706530e-02         1.046016e+01          3.289532e+01  1.887334e-03   \n",
       "min   -7.546654e-02        -1.487492e+01         -4.046779e+01 -6.676679e-03   \n",
       "25%   -1.746654e-02        -8.874922e+00         -2.446779e+01 -1.146679e-03   \n",
       "50%   -8.466542e-03        -1.874922e+00         -8.467792e+00  3.320826e-06   \n",
       "75%    2.533458e-03         5.125078e+00          1.553221e+01  1.088321e-03   \n",
       "max    5.235335e-01         5.612508e+01          2.425322e+02  6.943321e-03   \n",
       "\n",
       "                 pH     sulphates       alcohol  \n",
       "count  1.599000e+03  1.599000e+03  1.599000e+03  \n",
       "mean   4.396455e-16 -1.077590e-16 -1.693038e-15  \n",
       "std    1.543865e-01  1.695070e-01  1.065668e+00  \n",
       "min   -5.711132e-01 -3.281488e-01 -2.022983e+00  \n",
       "25%   -1.011132e-01 -1.081488e-01 -9.229831e-01  \n",
       "50%   -1.113196e-03 -3.814884e-02 -2.229831e-01  \n",
       "75%    8.888680e-02  7.185116e-02  6.770169e-01  \n",
       "max    6.988868e-01  1.341851e+00  4.477017e+00  "
      ]
     },
     "execution_count": 2,
     "metadata": {},
     "output_type": "execute_result"
    }
   ],
   "source": [
    "# Dataset location\n",
    "DATASET = '/dsa/data/all_datasets/wine-quality/winequality-red.csv'\n",
    "assert os.path.exists(DATASET)\n",
    "\n",
    "# Load and shuffle\n",
    "dataset = pd.read_csv(DATASET, sep=';').sample(frac = 1).reset_index(drop=True)\n",
    "\n",
    "X = np.array(dataset.iloc[:, :-1])\n",
    "# X = scale(X_wo_scale, with_std = False)\n",
    "X_centered = scale(X, with_std = False)\n",
    "\n",
    "y = np.array(dataset.quality)\n",
    "\n",
    "\n",
    "\n",
    "print(dataset.shape)\n",
    "\n",
    "# dataset.describe()\n",
    "\n",
    "\n",
    "pd.DataFrame(X_centered, columns = dataset.columns[:-1]).describe()\n"
   ]
  },
  {
   "cell_type": "code",
   "execution_count": 3,
   "metadata": {},
   "outputs": [
    {
     "data": {
      "text/html": [
       "<div>\n",
       "<style scoped>\n",
       "    .dataframe tbody tr th:only-of-type {\n",
       "        vertical-align: middle;\n",
       "    }\n",
       "\n",
       "    .dataframe tbody tr th {\n",
       "        vertical-align: top;\n",
       "    }\n",
       "\n",
       "    .dataframe thead th {\n",
       "        text-align: right;\n",
       "    }\n",
       "</style>\n",
       "<table border=\"1\" class=\"dataframe\">\n",
       "  <thead>\n",
       "    <tr style=\"text-align: right;\">\n",
       "      <th></th>\n",
       "      <th>fixed acidity</th>\n",
       "      <th>volatile acidity</th>\n",
       "      <th>citric acid</th>\n",
       "      <th>residual sugar</th>\n",
       "      <th>chlorides</th>\n",
       "      <th>free sulfur dioxide</th>\n",
       "      <th>total sulfur dioxide</th>\n",
       "      <th>density</th>\n",
       "      <th>pH</th>\n",
       "      <th>sulphates</th>\n",
       "      <th>alcohol</th>\n",
       "    </tr>\n",
       "  </thead>\n",
       "  <tbody>\n",
       "    <tr>\n",
       "      <th>0</th>\n",
       "      <td>0.980363</td>\n",
       "      <td>-0.137821</td>\n",
       "      <td>0.129024</td>\n",
       "      <td>0.061194</td>\n",
       "      <td>-0.014467</td>\n",
       "      <td>-5.874922</td>\n",
       "      <td>-20.467792</td>\n",
       "      <td>0.001653</td>\n",
       "      <td>0.028887</td>\n",
       "      <td>0.091851</td>\n",
       "      <td>-0.222983</td>\n",
       "    </tr>\n",
       "    <tr>\n",
       "      <th>1</th>\n",
       "      <td>-1.219637</td>\n",
       "      <td>0.152179</td>\n",
       "      <td>-0.200976</td>\n",
       "      <td>-0.638806</td>\n",
       "      <td>-0.012467</td>\n",
       "      <td>0.125078</td>\n",
       "      <td>4.532208</td>\n",
       "      <td>0.000103</td>\n",
       "      <td>0.068887</td>\n",
       "      <td>-0.138149</td>\n",
       "      <td>-0.922983</td>\n",
       "    </tr>\n",
       "    <tr>\n",
       "      <th>2</th>\n",
       "      <td>0.680363</td>\n",
       "      <td>0.257179</td>\n",
       "      <td>-0.030976</td>\n",
       "      <td>-0.838806</td>\n",
       "      <td>-0.009467</td>\n",
       "      <td>-5.874922</td>\n",
       "      <td>-25.467792</td>\n",
       "      <td>0.000173</td>\n",
       "      <td>-0.021113</td>\n",
       "      <td>0.011851</td>\n",
       "      <td>-0.422983</td>\n",
       "    </tr>\n",
       "    <tr>\n",
       "      <th>3</th>\n",
       "      <td>-0.819637</td>\n",
       "      <td>0.042179</td>\n",
       "      <td>-0.190976</td>\n",
       "      <td>0.061194</td>\n",
       "      <td>0.001533</td>\n",
       "      <td>-1.874922</td>\n",
       "      <td>-19.467792</td>\n",
       "      <td>-0.000827</td>\n",
       "      <td>-0.011113</td>\n",
       "      <td>-0.068149</td>\n",
       "      <td>-0.022983</td>\n",
       "    </tr>\n",
       "    <tr>\n",
       "      <th>4</th>\n",
       "      <td>-1.619637</td>\n",
       "      <td>0.172179</td>\n",
       "      <td>-0.190976</td>\n",
       "      <td>1.211194</td>\n",
       "      <td>-0.020467</td>\n",
       "      <td>-7.874922</td>\n",
       "      <td>-30.467792</td>\n",
       "      <td>-0.003407</td>\n",
       "      <td>0.118887</td>\n",
       "      <td>-0.138149</td>\n",
       "      <td>2.177017</td>\n",
       "    </tr>\n",
       "  </tbody>\n",
       "</table>\n",
       "</div>"
      ],
      "text/plain": [
       "   fixed acidity  volatile acidity  citric acid  residual sugar  chlorides  \\\n",
       "0       0.980363         -0.137821     0.129024        0.061194  -0.014467   \n",
       "1      -1.219637          0.152179    -0.200976       -0.638806  -0.012467   \n",
       "2       0.680363          0.257179    -0.030976       -0.838806  -0.009467   \n",
       "3      -0.819637          0.042179    -0.190976        0.061194   0.001533   \n",
       "4      -1.619637          0.172179    -0.190976        1.211194  -0.020467   \n",
       "\n",
       "   free sulfur dioxide  total sulfur dioxide   density        pH  sulphates  \\\n",
       "0            -5.874922            -20.467792  0.001653  0.028887   0.091851   \n",
       "1             0.125078              4.532208  0.000103  0.068887  -0.138149   \n",
       "2            -5.874922            -25.467792  0.000173 -0.021113   0.011851   \n",
       "3            -1.874922            -19.467792 -0.000827 -0.011113  -0.068149   \n",
       "4            -7.874922            -30.467792 -0.003407  0.118887  -0.138149   \n",
       "\n",
       "    alcohol  \n",
       "0 -0.222983  \n",
       "1 -0.922983  \n",
       "2 -0.422983  \n",
       "3 -0.022983  \n",
       "4  2.177017  "
      ]
     },
     "execution_count": 3,
     "metadata": {},
     "output_type": "execute_result"
    }
   ],
   "source": [
    "pd.DataFrame(X_centered, columns = dataset.columns[:-1]).head()"
   ]
  },
  {
   "cell_type": "markdown",
   "metadata": {},
   "source": [
    "## PCA with sklearn\n",
    "\n",
    "The following cell performs principal component analysis and transforms data space into feature space,\n",
    "which is done by a matrix transform followed by truncation of low variance principal components.\n",
    "Then you are free to use the obtained features **X_features** as input to your model. "
   ]
  },
  {
   "cell_type": "code",
   "execution_count": 4,
   "metadata": {},
   "outputs": [
    {
     "name": "stdout",
     "output_type": "stream",
     "text": [
      "[9.46576976e-01 4.83683046e-02 2.58917183e-03 1.51896798e-03\n",
      " 8.73553990e-04]\n",
      "Features shape (1599, 5)\n"
     ]
    }
   ],
   "source": [
    "pca = PCA(n_components=5)\n",
    "pca.fit(X_centered)\n",
    "print(pca.explained_variance_ratio_)\n",
    "X_features = pca.transform(X_centered)\n",
    "print('Features shape', X_features.shape)"
   ]
  },
  {
   "cell_type": "markdown",
   "metadata": {},
   "source": [
    "## Reconstruction of data space\n",
    "\n",
    "An approximation of original dataset can be recovered by linearly combining high variance principal components.\n",
    "This demonstrates the connection between data space and feature space.\n",
    "\n",
    "$$ \\hat X = AQ + \\mu \\approx X $$\n",
    "\n",
    "**Note**: The difference between **X_synthesized** and **X_reconstructed** is that the former is centered\n",
    "at the origin because PCA assumes mathematical expectation of input to be zero and input needs centered otherwise.\n",
    "Therefore, in order to reconstruct the original dataset, the approximation obtained using PCA has to be\n",
    "shifted back."
   ]
  },
  {
   "cell_type": "code",
   "execution_count": 5,
   "metadata": {},
   "outputs": [
    {
     "name": "stdout",
     "output_type": "stream",
     "text": [
      "Principal components shape (5, 11)\n",
      "Reconstructed dataset shape (1599, 11)\n"
     ]
    }
   ],
   "source": [
    "print('Principal components shape', pca.components_.shape)\n",
    "X_synthesized = np.dot(X_features, pca.components_)\n",
    "X_reconstructed = X_synthesized + np.mean(X, axis = 0)[np.newaxis, ...]\n",
    "print('Reconstructed dataset shape', X_reconstructed.shape)"
   ]
  },
  {
   "cell_type": "markdown",
   "metadata": {},
   "source": [
    "The following cell shows a reconstructed dataset which is an approximation of original dataset."
   ]
  },
  {
   "cell_type": "code",
   "execution_count": 6,
   "metadata": {},
   "outputs": [
    {
     "data": {
      "text/html": [
       "<div>\n",
       "<style scoped>\n",
       "    .dataframe tbody tr th:only-of-type {\n",
       "        vertical-align: middle;\n",
       "    }\n",
       "\n",
       "    .dataframe tbody tr th {\n",
       "        vertical-align: top;\n",
       "    }\n",
       "\n",
       "    .dataframe thead th {\n",
       "        text-align: right;\n",
       "    }\n",
       "</style>\n",
       "<table border=\"1\" class=\"dataframe\">\n",
       "  <thead>\n",
       "    <tr style=\"text-align: right;\">\n",
       "      <th></th>\n",
       "      <th>fixed acidity</th>\n",
       "      <th>volatile acidity</th>\n",
       "      <th>citric acid</th>\n",
       "      <th>residual sugar</th>\n",
       "      <th>chlorides</th>\n",
       "      <th>free sulfur dioxide</th>\n",
       "      <th>total sulfur dioxide</th>\n",
       "      <th>density</th>\n",
       "      <th>pH</th>\n",
       "      <th>sulphates</th>\n",
       "      <th>alcohol</th>\n",
       "    </tr>\n",
       "  </thead>\n",
       "  <tbody>\n",
       "    <tr>\n",
       "      <th>0</th>\n",
       "      <td>9.306280</td>\n",
       "      <td>0.511370</td>\n",
       "      <td>0.324998</td>\n",
       "      <td>2.598942</td>\n",
       "      <td>0.091735</td>\n",
       "      <td>10.000361</td>\n",
       "      <td>26.000000</td>\n",
       "      <td>0.997620</td>\n",
       "      <td>3.256364</td>\n",
       "      <td>0.661711</td>\n",
       "      <td>10.210869</td>\n",
       "    </tr>\n",
       "    <tr>\n",
       "      <th>1</th>\n",
       "      <td>7.088573</td>\n",
       "      <td>0.597345</td>\n",
       "      <td>0.144767</td>\n",
       "      <td>1.900850</td>\n",
       "      <td>0.092695</td>\n",
       "      <td>15.999855</td>\n",
       "      <td>50.999897</td>\n",
       "      <td>0.996463</td>\n",
       "      <td>3.363960</td>\n",
       "      <td>0.618046</td>\n",
       "      <td>9.492658</td>\n",
       "    </tr>\n",
       "    <tr>\n",
       "      <th>2</th>\n",
       "      <td>8.988065</td>\n",
       "      <td>0.521092</td>\n",
       "      <td>0.282728</td>\n",
       "      <td>1.701580</td>\n",
       "      <td>0.091433</td>\n",
       "      <td>9.999513</td>\n",
       "      <td>21.000045</td>\n",
       "      <td>0.997230</td>\n",
       "      <td>3.275029</td>\n",
       "      <td>0.654082</td>\n",
       "      <td>9.989258</td>\n",
       "    </tr>\n",
       "    <tr>\n",
       "      <th>3</th>\n",
       "      <td>7.494869</td>\n",
       "      <td>0.550888</td>\n",
       "      <td>0.185377</td>\n",
       "      <td>2.599907</td>\n",
       "      <td>0.086028</td>\n",
       "      <td>13.999972</td>\n",
       "      <td>26.999931</td>\n",
       "      <td>0.996283</td>\n",
       "      <td>3.374642</td>\n",
       "      <td>0.631372</td>\n",
       "      <td>10.393229</td>\n",
       "    </tr>\n",
       "    <tr>\n",
       "      <th>4</th>\n",
       "      <td>6.684540</td>\n",
       "      <td>0.509742</td>\n",
       "      <td>0.200179</td>\n",
       "      <td>3.751575</td>\n",
       "      <td>0.065834</td>\n",
       "      <td>7.999583</td>\n",
       "      <td>15.999922</td>\n",
       "      <td>0.994411</td>\n",
       "      <td>3.467836</td>\n",
       "      <td>0.643544</td>\n",
       "      <td>12.585238</td>\n",
       "    </tr>\n",
       "  </tbody>\n",
       "</table>\n",
       "</div>"
      ],
      "text/plain": [
       "   fixed acidity  volatile acidity  citric acid  residual sugar  chlorides  \\\n",
       "0       9.306280          0.511370     0.324998        2.598942   0.091735   \n",
       "1       7.088573          0.597345     0.144767        1.900850   0.092695   \n",
       "2       8.988065          0.521092     0.282728        1.701580   0.091433   \n",
       "3       7.494869          0.550888     0.185377        2.599907   0.086028   \n",
       "4       6.684540          0.509742     0.200179        3.751575   0.065834   \n",
       "\n",
       "   free sulfur dioxide  total sulfur dioxide   density        pH  sulphates  \\\n",
       "0            10.000361             26.000000  0.997620  3.256364   0.661711   \n",
       "1            15.999855             50.999897  0.996463  3.363960   0.618046   \n",
       "2             9.999513             21.000045  0.997230  3.275029   0.654082   \n",
       "3            13.999972             26.999931  0.996283  3.374642   0.631372   \n",
       "4             7.999583             15.999922  0.994411  3.467836   0.643544   \n",
       "\n",
       "     alcohol  \n",
       "0  10.210869  \n",
       "1   9.492658  \n",
       "2   9.989258  \n",
       "3  10.393229  \n",
       "4  12.585238  "
      ]
     },
     "execution_count": 6,
     "metadata": {},
     "output_type": "execute_result"
    }
   ],
   "source": [
    "pd.DataFrame(X_reconstructed, columns = dataset.columns[:-1]).head()"
   ]
  },
  {
   "cell_type": "markdown",
   "metadata": {},
   "source": [
    "The following cell shows the original dataset for comparison, and that we would not\n",
    "lose a whole lot of information by throwing away those low variance principal components."
   ]
  },
  {
   "cell_type": "code",
   "execution_count": 7,
   "metadata": {},
   "outputs": [
    {
     "data": {
      "text/html": [
       "<div>\n",
       "<style scoped>\n",
       "    .dataframe tbody tr th:only-of-type {\n",
       "        vertical-align: middle;\n",
       "    }\n",
       "\n",
       "    .dataframe tbody tr th {\n",
       "        vertical-align: top;\n",
       "    }\n",
       "\n",
       "    .dataframe thead th {\n",
       "        text-align: right;\n",
       "    }\n",
       "</style>\n",
       "<table border=\"1\" class=\"dataframe\">\n",
       "  <thead>\n",
       "    <tr style=\"text-align: right;\">\n",
       "      <th></th>\n",
       "      <th>fixed acidity</th>\n",
       "      <th>volatile acidity</th>\n",
       "      <th>citric acid</th>\n",
       "      <th>residual sugar</th>\n",
       "      <th>chlorides</th>\n",
       "      <th>free sulfur dioxide</th>\n",
       "      <th>total sulfur dioxide</th>\n",
       "      <th>density</th>\n",
       "      <th>pH</th>\n",
       "      <th>sulphates</th>\n",
       "      <th>alcohol</th>\n",
       "    </tr>\n",
       "  </thead>\n",
       "  <tbody>\n",
       "    <tr>\n",
       "      <th>0</th>\n",
       "      <td>9.3</td>\n",
       "      <td>0.390</td>\n",
       "      <td>0.40</td>\n",
       "      <td>2.60</td>\n",
       "      <td>0.073</td>\n",
       "      <td>10.0</td>\n",
       "      <td>26.0</td>\n",
       "      <td>0.99840</td>\n",
       "      <td>3.34</td>\n",
       "      <td>0.75</td>\n",
       "      <td>10.2</td>\n",
       "    </tr>\n",
       "    <tr>\n",
       "      <th>1</th>\n",
       "      <td>7.1</td>\n",
       "      <td>0.680</td>\n",
       "      <td>0.07</td>\n",
       "      <td>1.90</td>\n",
       "      <td>0.075</td>\n",
       "      <td>16.0</td>\n",
       "      <td>51.0</td>\n",
       "      <td>0.99685</td>\n",
       "      <td>3.38</td>\n",
       "      <td>0.52</td>\n",
       "      <td>9.5</td>\n",
       "    </tr>\n",
       "    <tr>\n",
       "      <th>2</th>\n",
       "      <td>9.0</td>\n",
       "      <td>0.785</td>\n",
       "      <td>0.24</td>\n",
       "      <td>1.70</td>\n",
       "      <td>0.078</td>\n",
       "      <td>10.0</td>\n",
       "      <td>21.0</td>\n",
       "      <td>0.99692</td>\n",
       "      <td>3.29</td>\n",
       "      <td>0.67</td>\n",
       "      <td>10.0</td>\n",
       "    </tr>\n",
       "    <tr>\n",
       "      <th>3</th>\n",
       "      <td>7.5</td>\n",
       "      <td>0.570</td>\n",
       "      <td>0.08</td>\n",
       "      <td>2.60</td>\n",
       "      <td>0.089</td>\n",
       "      <td>14.0</td>\n",
       "      <td>27.0</td>\n",
       "      <td>0.99592</td>\n",
       "      <td>3.30</td>\n",
       "      <td>0.59</td>\n",
       "      <td>10.4</td>\n",
       "    </tr>\n",
       "    <tr>\n",
       "      <th>4</th>\n",
       "      <td>6.7</td>\n",
       "      <td>0.700</td>\n",
       "      <td>0.08</td>\n",
       "      <td>3.75</td>\n",
       "      <td>0.067</td>\n",
       "      <td>8.0</td>\n",
       "      <td>16.0</td>\n",
       "      <td>0.99334</td>\n",
       "      <td>3.43</td>\n",
       "      <td>0.52</td>\n",
       "      <td>12.6</td>\n",
       "    </tr>\n",
       "  </tbody>\n",
       "</table>\n",
       "</div>"
      ],
      "text/plain": [
       "   fixed acidity  volatile acidity  citric acid  residual sugar  chlorides  \\\n",
       "0            9.3             0.390         0.40            2.60      0.073   \n",
       "1            7.1             0.680         0.07            1.90      0.075   \n",
       "2            9.0             0.785         0.24            1.70      0.078   \n",
       "3            7.5             0.570         0.08            2.60      0.089   \n",
       "4            6.7             0.700         0.08            3.75      0.067   \n",
       "\n",
       "   free sulfur dioxide  total sulfur dioxide  density    pH  sulphates  \\\n",
       "0                 10.0                  26.0  0.99840  3.34       0.75   \n",
       "1                 16.0                  51.0  0.99685  3.38       0.52   \n",
       "2                 10.0                  21.0  0.99692  3.29       0.67   \n",
       "3                 14.0                  27.0  0.99592  3.30       0.59   \n",
       "4                  8.0                  16.0  0.99334  3.43       0.52   \n",
       "\n",
       "   alcohol  \n",
       "0     10.2  \n",
       "1      9.5  \n",
       "2     10.0  \n",
       "3     10.4  \n",
       "4     12.6  "
      ]
     },
     "execution_count": 7,
     "metadata": {},
     "output_type": "execute_result"
    }
   ],
   "source": [
    "dataset.iloc[:5, :-1]"
   ]
  },
  {
   "cell_type": "markdown",
   "metadata": {},
   "source": [
    "## Approximation error of principal components\n",
    "\n",
    "As a result, we were able to represent original dataset using principal components\n",
    "without losing too much information. \n",
    "Space consumption was essentially halved.\n",
    "And these principal components can be used as features for subsequent machine learning pipeline.\n",
    "The following calculates mean squared error between original dataset and reconstructed dataset for all cells."
   ]
  },
  {
   "cell_type": "code",
   "execution_count": 8,
   "metadata": {},
   "outputs": [
    {
     "data": {
      "text/plain": [
       "0.00794679057258955"
      ]
     },
     "execution_count": 8,
     "metadata": {},
     "output_type": "execute_result"
    }
   ],
   "source": [
    "error = X - X_reconstructed\n",
    "np.mean((error**2))"
   ]
  },
  {
   "cell_type": "markdown",
   "metadata": {},
   "source": [
    "## Verify eigenstructure of PCA\n",
    "\n",
    "The solution of PCA could be found by performing **eigen-decomposition** of the covariance matrix of **X**.\n",
    "This section quickly verifies some of its properties pertaining to eigenstructure.\n",
    "\n",
    "Some other interesting facts about PCA include that the error and approximation are orthogonal.\n",
    "Because the approximation consists of high variance principal components while the error solely \n",
    "consists of low variance principal components, and all principal components are orthogonal pairwise.\n",
    "\n",
    "$$ E^T (\\hat X- \\mu) = 0$$\n",
    "\n",
    "Moreover, this orthogonality is a desirable property because it is tantamount to achieving minimum mean square error. \n",
    "See [Principle of Orthogonality](https://en.wikipedia.org/wiki/Orthogonality_principle)."
   ]
  },
  {
   "cell_type": "code",
   "execution_count": 9,
   "metadata": {},
   "outputs": [
    {
     "data": {
      "text/plain": [
       "True"
      ]
     },
     "execution_count": 9,
     "metadata": {},
     "output_type": "execute_result"
    }
   ],
   "source": [
    "np.allclose(np.dot(error.T, X_synthesized), np.zeros((X.shape[1],X.shape[1])))"
   ]
  },
  {
   "cell_type": "code",
   "execution_count": 10,
   "metadata": {},
   "outputs": [
    {
     "data": {
      "text/plain": [
       "array([[1, 1, 1, 1, 1, 1, 1, 1, 1, 1, 1],\n",
       "       [1, 1, 1, 1, 1, 1, 1, 1, 1, 1, 1],\n",
       "       [1, 1, 1, 1, 1, 1, 1, 1, 1, 1, 1],\n",
       "       [1, 1, 1, 1, 1, 1, 1, 1, 1, 1, 1],\n",
       "       [1, 1, 1, 1, 1, 1, 1, 1, 1, 1, 1],\n",
       "       [1, 1, 1, 1, 1, 1, 1, 1, 1, 1, 1],\n",
       "       [1, 1, 1, 1, 1, 1, 1, 1, 1, 1, 1],\n",
       "       [1, 1, 1, 1, 1, 1, 1, 1, 1, 1, 1],\n",
       "       [1, 1, 1, 1, 1, 1, 1, 1, 1, 1, 1],\n",
       "       [1, 1, 1, 1, 1, 1, 1, 1, 1, 1, 1],\n",
       "       [1, 1, 1, 1, 1, 1, 1, 1, 1, 1, 1]])"
      ]
     },
     "execution_count": 10,
     "metadata": {},
     "output_type": "execute_result"
    }
   ],
   "source": [
    "np.isclose(np.dot(error.T, X_synthesized), np.zeros((X.shape[1],X.shape[1]))).astype(int)"
   ]
  },
  {
   "cell_type": "markdown",
   "metadata": {},
   "source": [
    "Principal component analysis is also closely related to eigen-decomposition and the singular value decomposition problem.\n",
    "The former can be quickly verified that **pca.explained\\_variance_** and **pca.components_** are, in fact, the **eigenvalues** and **eigenvectors** of the covariance matrix,\n",
    "which also explains the orthogonality among all principal components.\n",
    "\n",
    "$$ cov(X)Q = \\Lambda Q $$\n",
    "\n",
    "or for each column vector $\\vec{q_j}$ in **Q**, this is the eigenequation:\n",
    "\n",
    "$$ R \\vec{q_j}=\\lambda_j \\vec{q_j}$$\n",
    "\n",
    "where\n",
    "\n",
    "$$R=cov(X) = E(X-\\mu)(X-\\mu)^T$$"
   ]
  },
  {
   "cell_type": "code",
   "execution_count": 11,
   "metadata": {},
   "outputs": [
    {
     "name": "stdout",
     "output_type": "stream",
     "text": [
      "True\n",
      "True\n",
      "True\n",
      "True\n",
      "True\n"
     ]
    }
   ],
   "source": [
    "# covariance matrix of X\n",
    "R = np.dot(X_centered.T, X_centered) / X.shape[0]\n",
    "\n",
    "for eigenvalue, eigenvector in zip(pca.explained_variance_, pca.components_):\n",
    "    print(np.allclose(\n",
    "        np.dot(R, eigenvector),          # left hand side\n",
    "        np.dot(eigenvalue, eigenvector)  # right hand side\n",
    "    , rtol=1e-3))"
   ]
  },
  {
   "cell_type": "markdown",
   "metadata": {},
   "source": [
    "## Scree plot\n",
    "\n",
    "This plots variances (y-axis) against components (x-axis).\n",
    "As one moves to the right, toward later components, the variances (or the eigenvalues) drop.\n",
    "It helps us to decide on number of principal components to be retained, although this is subjective."
   ]
  },
  {
   "cell_type": "code",
   "execution_count": 12,
   "metadata": {},
   "outputs": [
    {
     "data": {
      "text/plain": [
       "[<matplotlib.lines.Line2D at 0x7feda4405a90>]"
      ]
     },
     "execution_count": 12,
     "metadata": {},
     "output_type": "execute_result"
    },
    {
     "data": {
      "image/png": "[encoded data removed]",
      "text/plain": [
       "<Figure size 432x288 with 1 Axes>"
      ]
     },
     "metadata": {
      "needs_background": "light"
     },
     "output_type": "display_data"
    }
   ],
   "source": [
    "x_ticks = np.arange(len(pca.components_))+1\n",
    "plt.xticks(x_ticks) # this enforces integers on the x-axis\n",
    "plt.plot(x_ticks, pca.explained_variance_)"
   ]
  },
  {
   "cell_type": "markdown",
   "metadata": {},
   "source": [
    "Similarily, you could also plot the explained variance ratio.\n",
    "A full PCA without components truncated would have total explained variance ratio equal to 1."
   ]
  },
  {
   "cell_type": "code",
   "execution_count": 13,
   "metadata": {},
   "outputs": [
    {
     "name": "stdout",
     "output_type": "stream",
     "text": [
      "total expained variance ratio 0.999926974772966\n"
     ]
    },
    {
     "data": {
      "image/png": "[encoded data removed]",
      "text/plain": [
       "<Figure size 432x288 with 1 Axes>"
      ]
     },
     "metadata": {
      "needs_background": "light"
     },
     "output_type": "display_data"
    }
   ],
   "source": [
    "plt.xticks(x_ticks)\n",
    "plt.plot(x_ticks, pca.explained_variance_ratio_)\n",
    "print('total expained variance ratio', np.sum(pca.explained_variance_ratio_))"
   ]
  },
  {
   "cell_type": "markdown",
   "metadata": {},
   "source": [
    "The above two plots show that the first component explained most of the variance present in the data. We can simply work with first 2/3 compoents. "
   ]
  },
  {
   "cell_type": "markdown",
   "metadata": {},
   "source": [
    "## Conclusion\n",
    "\n",
    "In this lab we learned about:\n",
    "+ Apply PCA to a dataset for feature extraction.\n",
    "+ Reconstruct an approximation of original dataset using principal components.\n",
    "+ Eigenstructure of PCA.\n",
    "+ Scree plot of PCA."
   ]
  }
 ],
 "metadata": {
  "kernelspec": {
   "display_name": "Python 3",
   "language": "python",
   "name": "python3"
  },
  "language_info": {
   "codemirror_mode": {
    "name": "ipython",
    "version": 3
   },
   "file_extension": ".py",
   "mimetype": "text/x-python",
   "name": "python",
   "nbconvert_exporter": "python",
   "pygments_lexer": "ipython3",
   "version": "3.7.3"
  }
 },
 "nbformat": 4,
 "nbformat_minor": 4
}
