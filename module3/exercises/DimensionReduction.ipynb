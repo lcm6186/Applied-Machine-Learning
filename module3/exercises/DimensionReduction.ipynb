{
 "cells": [
  {
   "cell_type": "markdown",
   "metadata": {},
   "source": [
    "# Module 3: Dimensionality reduction - Exercise\n",
    "\n",
    "In this session you will compare both **feature selection** and **feature extraction** for dimensionality reduction, \n",
    "but we will still use **Naive Bayes** model.\n",
    "We will apply these techniques to a real-world [HR Analytics dataset](https://www.kaggle.com/giripujar/hr-analytics).\n",
    "\n",
    "\n",
    "The overall goal is to predict if an employee would leave the company.\n",
    "\n",
    "##### NOTE\n",
    "\n",
    "The goal is the get the best performance from the **Naive Bayes** model using feature reduction techniques. \n",
    "We can expect that a different model may be more suitable, \n",
    "however we want to only have a single moving part at a time so we will stay with Naive Bayes this week."
   ]
  },
  {
   "cell_type": "code",
   "execution_count": 1,
   "metadata": {},
   "outputs": [],
   "source": [
    "%matplotlib inline\n",
    "import matplotlib.pyplot as plt\n",
    "\n",
    "import os, sys\n",
    "import numpy as np\n",
    "import pandas as pd\n",
    "np.random.seed(18937)\n",
    "\n",
    "# Add code below this comment\n",
    "# to import additional libraries\n",
    "# and classes (Question #E101)\n",
    "# ---------------------------\n",
    "\n",
    "from sklearn.preprocessing import LabelBinarizer\n",
    "from sklearn.model_selection import train_test_split\n",
    "from sklearn.feature_selection import SelectKBest\n",
    "from sklearn.feature_selection import chi2\n",
    "from sklearn.naive_bayes import GaussianNB\n",
    "from sklearn.decomposition import PCA\n",
    "from sklearn.preprocessing import scale\n",
    "\n",
    "from scipy.stats import pearsonr"
   ]
  },
  {
   "cell_type": "markdown",
   "metadata": {},
   "source": [
    "# Load dataset\n",
    "\n",
    "Load dataset into a DataFrame and shuffle."
   ]
  },
  {
   "cell_type": "code",
   "execution_count": 2,
   "metadata": {},
   "outputs": [],
   "source": [
    "# Dataset location\n",
    "DATASET = '/dsa/data/all_datasets/HR_analytics.csv'\n",
    "assert os.path.exists(DATASET)\n",
    "\n",
    "# Add code below this comment (Question #E102)\n",
    "# ---------------------------\n",
    "\n",
    "dataset = pd.read_csv(DATASET, sep=',').sample(frac=1).reset_index(drop=True)\n",
    "\n",
    "# update and use ',' for separator"
   ]
  },
  {
   "cell_type": "markdown",
   "metadata": {},
   "source": [
    "Print top 5 rows of the dataset."
   ]
  },
  {
   "cell_type": "code",
   "execution_count": 3,
   "metadata": {},
   "outputs": [
    {
     "data": {
      "text/html": [
       "<div>\n",
       "<style scoped>\n",
       "    .dataframe tbody tr th:only-of-type {\n",
       "        vertical-align: middle;\n",
       "    }\n",
       "\n",
       "    .dataframe tbody tr th {\n",
       "        vertical-align: top;\n",
       "    }\n",
       "\n",
       "    .dataframe thead th {\n",
       "        text-align: right;\n",
       "    }\n",
       "</style>\n",
       "<table border=\"1\" class=\"dataframe\">\n",
       "  <thead>\n",
       "    <tr style=\"text-align: right;\">\n",
       "      <th></th>\n",
       "      <th>satisfaction_level</th>\n",
       "      <th>last_evaluation</th>\n",
       "      <th>number_project</th>\n",
       "      <th>average_montly_hours</th>\n",
       "      <th>time_spend_company</th>\n",
       "      <th>Work_accident</th>\n",
       "      <th>left</th>\n",
       "      <th>promotion_last_5years</th>\n",
       "      <th>sales</th>\n",
       "      <th>salary</th>\n",
       "    </tr>\n",
       "  </thead>\n",
       "  <tbody>\n",
       "    <tr>\n",
       "      <th>0</th>\n",
       "      <td>0.85</td>\n",
       "      <td>0.90</td>\n",
       "      <td>5</td>\n",
       "      <td>202</td>\n",
       "      <td>3</td>\n",
       "      <td>0</td>\n",
       "      <td>0</td>\n",
       "      <td>0</td>\n",
       "      <td>IT</td>\n",
       "      <td>low</td>\n",
       "    </tr>\n",
       "    <tr>\n",
       "      <th>1</th>\n",
       "      <td>0.12</td>\n",
       "      <td>0.60</td>\n",
       "      <td>2</td>\n",
       "      <td>194</td>\n",
       "      <td>4</td>\n",
       "      <td>0</td>\n",
       "      <td>0</td>\n",
       "      <td>0</td>\n",
       "      <td>technical</td>\n",
       "      <td>medium</td>\n",
       "    </tr>\n",
       "    <tr>\n",
       "      <th>2</th>\n",
       "      <td>0.40</td>\n",
       "      <td>0.47</td>\n",
       "      <td>2</td>\n",
       "      <td>136</td>\n",
       "      <td>3</td>\n",
       "      <td>0</td>\n",
       "      <td>1</td>\n",
       "      <td>0</td>\n",
       "      <td>hr</td>\n",
       "      <td>medium</td>\n",
       "    </tr>\n",
       "    <tr>\n",
       "      <th>3</th>\n",
       "      <td>0.47</td>\n",
       "      <td>0.55</td>\n",
       "      <td>4</td>\n",
       "      <td>122</td>\n",
       "      <td>5</td>\n",
       "      <td>1</td>\n",
       "      <td>0</td>\n",
       "      <td>0</td>\n",
       "      <td>marketing</td>\n",
       "      <td>medium</td>\n",
       "    </tr>\n",
       "    <tr>\n",
       "      <th>4</th>\n",
       "      <td>0.89</td>\n",
       "      <td>0.65</td>\n",
       "      <td>5</td>\n",
       "      <td>195</td>\n",
       "      <td>6</td>\n",
       "      <td>0</td>\n",
       "      <td>1</td>\n",
       "      <td>0</td>\n",
       "      <td>support</td>\n",
       "      <td>low</td>\n",
       "    </tr>\n",
       "  </tbody>\n",
       "</table>\n",
       "</div>"
      ],
      "text/plain": [
       "   satisfaction_level  last_evaluation  number_project  average_montly_hours  \\\n",
       "0                0.85             0.90               5                   202   \n",
       "1                0.12             0.60               2                   194   \n",
       "2                0.40             0.47               2                   136   \n",
       "3                0.47             0.55               4                   122   \n",
       "4                0.89             0.65               5                   195   \n",
       "\n",
       "   time_spend_company  Work_accident  left  promotion_last_5years      sales  \\\n",
       "0                   3              0     0                      0         IT   \n",
       "1                   4              0     0                      0  technical   \n",
       "2                   3              0     1                      0         hr   \n",
       "3                   5              1     0                      0  marketing   \n",
       "4                   6              0     1                      0    support   \n",
       "\n",
       "   salary  \n",
       "0     low  \n",
       "1  medium  \n",
       "2  medium  \n",
       "3  medium  \n",
       "4     low  "
      ]
     },
     "execution_count": 3,
     "metadata": {},
     "output_type": "execute_result"
    }
   ],
   "source": [
    "# Add code below this comment (Question #E103)\n",
    "# ---------------------------\n",
    "\n",
    "dataset.head()\n"
   ]
  },
  {
   "cell_type": "markdown",
   "metadata": {},
   "source": [
    "## Processing\n",
    "\n",
    "In the dataset, \"sales\" and \"salary\" are string columns,\n",
    "which need some proccessing before we can start feature selection/extraction.\n",
    "\n",
    "Play with following code and **add comments** to explain based on your understanding.\n",
    "Feel free to drop questions on disscussion board if you encounter difficulties."
   ]
  },
  {
   "cell_type": "code",
   "execution_count": 4,
   "metadata": {},
   "outputs": [
    {
     "data": {
      "text/html": [
       "<div>\n",
       "<style scoped>\n",
       "    .dataframe tbody tr th:only-of-type {\n",
       "        vertical-align: middle;\n",
       "    }\n",
       "\n",
       "    .dataframe tbody tr th {\n",
       "        vertical-align: top;\n",
       "    }\n",
       "\n",
       "    .dataframe thead th {\n",
       "        text-align: right;\n",
       "    }\n",
       "</style>\n",
       "<table border=\"1\" class=\"dataframe\">\n",
       "  <thead>\n",
       "    <tr style=\"text-align: right;\">\n",
       "      <th></th>\n",
       "      <th>satisfaction_level</th>\n",
       "      <th>last_evaluation</th>\n",
       "      <th>number_project</th>\n",
       "      <th>average_montly_hours</th>\n",
       "      <th>time_spend_company</th>\n",
       "      <th>Work_accident</th>\n",
       "      <th>left</th>\n",
       "      <th>promotion_last_5years</th>\n",
       "      <th>sales</th>\n",
       "      <th>salary</th>\n",
       "      <th>salary_high</th>\n",
       "      <th>salary_low</th>\n",
       "      <th>salary_medium</th>\n",
       "    </tr>\n",
       "  </thead>\n",
       "  <tbody>\n",
       "    <tr>\n",
       "      <th>0</th>\n",
       "      <td>0.85</td>\n",
       "      <td>0.90</td>\n",
       "      <td>5</td>\n",
       "      <td>202</td>\n",
       "      <td>3</td>\n",
       "      <td>0</td>\n",
       "      <td>0</td>\n",
       "      <td>0</td>\n",
       "      <td>IT</td>\n",
       "      <td>low</td>\n",
       "      <td>0</td>\n",
       "      <td>1</td>\n",
       "      <td>0</td>\n",
       "    </tr>\n",
       "    <tr>\n",
       "      <th>1</th>\n",
       "      <td>0.12</td>\n",
       "      <td>0.60</td>\n",
       "      <td>2</td>\n",
       "      <td>194</td>\n",
       "      <td>4</td>\n",
       "      <td>0</td>\n",
       "      <td>0</td>\n",
       "      <td>0</td>\n",
       "      <td>technical</td>\n",
       "      <td>medium</td>\n",
       "      <td>0</td>\n",
       "      <td>0</td>\n",
       "      <td>1</td>\n",
       "    </tr>\n",
       "    <tr>\n",
       "      <th>2</th>\n",
       "      <td>0.40</td>\n",
       "      <td>0.47</td>\n",
       "      <td>2</td>\n",
       "      <td>136</td>\n",
       "      <td>3</td>\n",
       "      <td>0</td>\n",
       "      <td>1</td>\n",
       "      <td>0</td>\n",
       "      <td>hr</td>\n",
       "      <td>medium</td>\n",
       "      <td>0</td>\n",
       "      <td>0</td>\n",
       "      <td>1</td>\n",
       "    </tr>\n",
       "    <tr>\n",
       "      <th>3</th>\n",
       "      <td>0.47</td>\n",
       "      <td>0.55</td>\n",
       "      <td>4</td>\n",
       "      <td>122</td>\n",
       "      <td>5</td>\n",
       "      <td>1</td>\n",
       "      <td>0</td>\n",
       "      <td>0</td>\n",
       "      <td>marketing</td>\n",
       "      <td>medium</td>\n",
       "      <td>0</td>\n",
       "      <td>0</td>\n",
       "      <td>1</td>\n",
       "    </tr>\n",
       "    <tr>\n",
       "      <th>4</th>\n",
       "      <td>0.89</td>\n",
       "      <td>0.65</td>\n",
       "      <td>5</td>\n",
       "      <td>195</td>\n",
       "      <td>6</td>\n",
       "      <td>0</td>\n",
       "      <td>1</td>\n",
       "      <td>0</td>\n",
       "      <td>support</td>\n",
       "      <td>low</td>\n",
       "      <td>0</td>\n",
       "      <td>1</td>\n",
       "      <td>0</td>\n",
       "    </tr>\n",
       "  </tbody>\n",
       "</table>\n",
       "</div>"
      ],
      "text/plain": [
       "   satisfaction_level  last_evaluation  number_project  average_montly_hours  \\\n",
       "0                0.85             0.90               5                   202   \n",
       "1                0.12             0.60               2                   194   \n",
       "2                0.40             0.47               2                   136   \n",
       "3                0.47             0.55               4                   122   \n",
       "4                0.89             0.65               5                   195   \n",
       "\n",
       "   time_spend_company  Work_accident  left  promotion_last_5years      sales  \\\n",
       "0                   3              0     0                      0         IT   \n",
       "1                   4              0     0                      0  technical   \n",
       "2                   3              0     1                      0         hr   \n",
       "3                   5              1     0                      0  marketing   \n",
       "4                   6              0     1                      0    support   \n",
       "\n",
       "   salary  salary_high  salary_low  salary_medium  \n",
       "0     low            0           1              0  \n",
       "1  medium            0           0              1  \n",
       "2  medium            0           0              1  \n",
       "3  medium            0           0              1  \n",
       "4     low            0           1              0  "
      ]
     },
     "execution_count": 4,
     "metadata": {},
     "output_type": "execute_result"
    }
   ],
   "source": [
    "# Add line-by-line comments to explain following code (Question #E104)\n",
    "# ===============================\n",
    "\n",
    "encoder = LabelBinarizer() # loaded for one-hot encoding\n",
    "salary_features = encoder.fit_transform(np.expand_dims(dataset.salary, 1))\n",
    "for j, _class in enumerate(encoder.classes_):\n",
    "    dataset.loc[:, 'salary_{}'.format(_class)] = salary_features[:, j] # Adds the new class column to the dataset\n",
    "\n",
    "dataset.head()"
   ]
  },
  {
   "cell_type": "code",
   "execution_count": 5,
   "metadata": {
    "scrolled": true
   },
   "outputs": [
    {
     "name": "stdout",
     "output_type": "stream",
     "text": [
      "Help on method fit_transform in module sklearn.preprocessing._label:\n",
      "\n",
      "fit_transform(y) method of sklearn.preprocessing._label.LabelBinarizer instance\n",
      "    Fit label binarizer and transform multi-class labels to binary\n",
      "    labels.\n",
      "    \n",
      "    The output of transform is sometimes referred to as\n",
      "    the 1-of-K coding scheme.\n",
      "    \n",
      "    Parameters\n",
      "    ----------\n",
      "    y : {ndarray, sparse matrix} of shape (n_samples,) or                 (n_samples, n_classes)\n",
      "        Target values. The 2-d matrix should only contain 0 and 1,\n",
      "        represents multilabel classification. Sparse matrix can be\n",
      "        CSR, CSC, COO, DOK, or LIL.\n",
      "    \n",
      "    Returns\n",
      "    -------\n",
      "    Y : {ndarray, sparse matrix} of shape (n_samples, n_classes)\n",
      "        Shape will be (n_samples, 1) for binary problems. Sparse matrix\n",
      "        will be of CSR format.\n",
      "\n"
     ]
    }
   ],
   "source": [
    "# help on fit_transform\n",
    "help(encoder.fit_transform)"
   ]
  },
  {
   "cell_type": "code",
   "execution_count": 6,
   "metadata": {
    "scrolled": true
   },
   "outputs": [
    {
     "name": "stdout",
     "output_type": "stream",
     "text": [
      "Help on function expand_dims in module numpy:\n",
      "\n",
      "expand_dims(a, axis)\n",
      "    Expand the shape of an array.\n",
      "    \n",
      "    Insert a new axis that will appear at the `axis` position in the expanded\n",
      "    array shape.\n",
      "    \n",
      "    .. note:: Previous to NumPy 1.13.0, neither ``axis < -a.ndim - 1`` nor\n",
      "       ``axis > a.ndim`` raised errors or put the new axis where documented.\n",
      "       Those axis values are now deprecated and will raise an AxisError in the\n",
      "       future.\n",
      "    \n",
      "    Parameters\n",
      "    ----------\n",
      "    a : array_like\n",
      "        Input array.\n",
      "    axis : int\n",
      "        Position in the expanded axes where the new axis is placed.\n",
      "    \n",
      "    Returns\n",
      "    -------\n",
      "    res : ndarray\n",
      "        View of `a` with the number of dimensions increased by one.\n",
      "    \n",
      "    See Also\n",
      "    --------\n",
      "    squeeze : The inverse operation, removing singleton dimensions\n",
      "    reshape : Insert, remove, and combine dimensions, and resize existing ones\n",
      "    doc.indexing, atleast_1d, atleast_2d, atleast_3d\n",
      "    \n",
      "    Examples\n",
      "    --------\n",
      "    >>> x = np.array([1,2])\n",
      "    >>> x.shape\n",
      "    (2,)\n",
      "    \n",
      "    The following is equivalent to ``x[np.newaxis,:]`` or ``x[np.newaxis]``:\n",
      "    \n",
      "    >>> y = np.expand_dims(x, axis=0)\n",
      "    >>> y\n",
      "    array([[1, 2]])\n",
      "    >>> y.shape\n",
      "    (1, 2)\n",
      "    \n",
      "    >>> y = np.expand_dims(x, axis=1)  # Equivalent to x[:,np.newaxis]\n",
      "    >>> y\n",
      "    array([[1],\n",
      "           [2]])\n",
      "    >>> y.shape\n",
      "    (2, 1)\n",
      "    \n",
      "    Note that some examples may use ``None`` instead of ``np.newaxis``.  These\n",
      "    are the same objects:\n",
      "    \n",
      "    >>> np.newaxis is None\n",
      "    True\n",
      "\n"
     ]
    }
   ],
   "source": [
    "# help on expand_dims\n",
    "help(np.expand_dims)"
   ]
  },
  {
   "cell_type": "markdown",
   "metadata": {},
   "source": [
    "Now please write similar code for \"sales\" column like what we just did above. Feel free to drop questions on disscussion board if you need clarification."
   ]
  },
  {
   "cell_type": "code",
   "execution_count": 7,
   "metadata": {},
   "outputs": [
    {
     "name": "stdout",
     "output_type": "stream",
     "text": [
      "<class 'pandas.core.frame.DataFrame'>\n",
      "RangeIndex: 14999 entries, 0 to 14998\n",
      "Data columns (total 23 columns):\n",
      " #   Column                 Non-Null Count  Dtype  \n",
      "---  ------                 --------------  -----  \n",
      " 0   satisfaction_level     14999 non-null  float64\n",
      " 1   last_evaluation        14999 non-null  float64\n",
      " 2   number_project         14999 non-null  int64  \n",
      " 3   average_montly_hours   14999 non-null  int64  \n",
      " 4   time_spend_company     14999 non-null  int64  \n",
      " 5   Work_accident          14999 non-null  int64  \n",
      " 6   left                   14999 non-null  int64  \n",
      " 7   promotion_last_5years  14999 non-null  int64  \n",
      " 8   sales                  14999 non-null  object \n",
      " 9   salary                 14999 non-null  object \n",
      " 10  salary_high            14999 non-null  int64  \n",
      " 11  salary_low             14999 non-null  int64  \n",
      " 12  salary_medium          14999 non-null  int64  \n",
      " 13  sales_IT               14999 non-null  int64  \n",
      " 14  sales_RandD            14999 non-null  int64  \n",
      " 15  sales_accounting       14999 non-null  int64  \n",
      " 16  sales_hr               14999 non-null  int64  \n",
      " 17  sales_management       14999 non-null  int64  \n",
      " 18  sales_marketing        14999 non-null  int64  \n",
      " 19  sales_product_mng      14999 non-null  int64  \n",
      " 20  sales_sales            14999 non-null  int64  \n",
      " 21  sales_support          14999 non-null  int64  \n",
      " 22  sales_technical        14999 non-null  int64  \n",
      "dtypes: float64(2), int64(19), object(2)\n",
      "memory usage: 2.6+ MB\n"
     ]
    }
   ],
   "source": [
    "# Add code below this comment (Question #E105)\n",
    "# ---------------------------\n",
    "\n",
    "encoder = LabelBinarizer() # loaded for one-hot encoding\n",
    "sales_features = encoder.fit_transform(np.expand_dims(dataset.sales, 1))\n",
    "for j, _class in enumerate(encoder.classes_):\n",
    "    dataset.loc[:, 'sales_{}'.format(_class)] = sales_features[:, j]\n",
    "\n",
    "\n",
    "# ---------------------------\n",
    "\n",
    "dataset.info()"
   ]
  },
  {
   "cell_type": "code",
   "execution_count": 8,
   "metadata": {},
   "outputs": [
    {
     "data": {
      "text/html": [
       "<div>\n",
       "<style scoped>\n",
       "    .dataframe tbody tr th:only-of-type {\n",
       "        vertical-align: middle;\n",
       "    }\n",
       "\n",
       "    .dataframe tbody tr th {\n",
       "        vertical-align: top;\n",
       "    }\n",
       "\n",
       "    .dataframe thead th {\n",
       "        text-align: right;\n",
       "    }\n",
       "</style>\n",
       "<table border=\"1\" class=\"dataframe\">\n",
       "  <thead>\n",
       "    <tr style=\"text-align: right;\">\n",
       "      <th></th>\n",
       "      <th>satisfaction_level</th>\n",
       "      <th>last_evaluation</th>\n",
       "      <th>number_project</th>\n",
       "      <th>average_montly_hours</th>\n",
       "      <th>time_spend_company</th>\n",
       "      <th>Work_accident</th>\n",
       "      <th>left</th>\n",
       "      <th>promotion_last_5years</th>\n",
       "      <th>sales</th>\n",
       "      <th>salary</th>\n",
       "      <th>...</th>\n",
       "      <th>sales_IT</th>\n",
       "      <th>sales_RandD</th>\n",
       "      <th>sales_accounting</th>\n",
       "      <th>sales_hr</th>\n",
       "      <th>sales_management</th>\n",
       "      <th>sales_marketing</th>\n",
       "      <th>sales_product_mng</th>\n",
       "      <th>sales_sales</th>\n",
       "      <th>sales_support</th>\n",
       "      <th>sales_technical</th>\n",
       "    </tr>\n",
       "  </thead>\n",
       "  <tbody>\n",
       "    <tr>\n",
       "      <th>0</th>\n",
       "      <td>0.85</td>\n",
       "      <td>0.90</td>\n",
       "      <td>5</td>\n",
       "      <td>202</td>\n",
       "      <td>3</td>\n",
       "      <td>0</td>\n",
       "      <td>0</td>\n",
       "      <td>0</td>\n",
       "      <td>IT</td>\n",
       "      <td>low</td>\n",
       "      <td>...</td>\n",
       "      <td>1</td>\n",
       "      <td>0</td>\n",
       "      <td>0</td>\n",
       "      <td>0</td>\n",
       "      <td>0</td>\n",
       "      <td>0</td>\n",
       "      <td>0</td>\n",
       "      <td>0</td>\n",
       "      <td>0</td>\n",
       "      <td>0</td>\n",
       "    </tr>\n",
       "    <tr>\n",
       "      <th>1</th>\n",
       "      <td>0.12</td>\n",
       "      <td>0.60</td>\n",
       "      <td>2</td>\n",
       "      <td>194</td>\n",
       "      <td>4</td>\n",
       "      <td>0</td>\n",
       "      <td>0</td>\n",
       "      <td>0</td>\n",
       "      <td>technical</td>\n",
       "      <td>medium</td>\n",
       "      <td>...</td>\n",
       "      <td>0</td>\n",
       "      <td>0</td>\n",
       "      <td>0</td>\n",
       "      <td>0</td>\n",
       "      <td>0</td>\n",
       "      <td>0</td>\n",
       "      <td>0</td>\n",
       "      <td>0</td>\n",
       "      <td>0</td>\n",
       "      <td>1</td>\n",
       "    </tr>\n",
       "    <tr>\n",
       "      <th>2</th>\n",
       "      <td>0.40</td>\n",
       "      <td>0.47</td>\n",
       "      <td>2</td>\n",
       "      <td>136</td>\n",
       "      <td>3</td>\n",
       "      <td>0</td>\n",
       "      <td>1</td>\n",
       "      <td>0</td>\n",
       "      <td>hr</td>\n",
       "      <td>medium</td>\n",
       "      <td>...</td>\n",
       "      <td>0</td>\n",
       "      <td>0</td>\n",
       "      <td>0</td>\n",
       "      <td>1</td>\n",
       "      <td>0</td>\n",
       "      <td>0</td>\n",
       "      <td>0</td>\n",
       "      <td>0</td>\n",
       "      <td>0</td>\n",
       "      <td>0</td>\n",
       "    </tr>\n",
       "    <tr>\n",
       "      <th>3</th>\n",
       "      <td>0.47</td>\n",
       "      <td>0.55</td>\n",
       "      <td>4</td>\n",
       "      <td>122</td>\n",
       "      <td>5</td>\n",
       "      <td>1</td>\n",
       "      <td>0</td>\n",
       "      <td>0</td>\n",
       "      <td>marketing</td>\n",
       "      <td>medium</td>\n",
       "      <td>...</td>\n",
       "      <td>0</td>\n",
       "      <td>0</td>\n",
       "      <td>0</td>\n",
       "      <td>0</td>\n",
       "      <td>0</td>\n",
       "      <td>1</td>\n",
       "      <td>0</td>\n",
       "      <td>0</td>\n",
       "      <td>0</td>\n",
       "      <td>0</td>\n",
       "    </tr>\n",
       "    <tr>\n",
       "      <th>4</th>\n",
       "      <td>0.89</td>\n",
       "      <td>0.65</td>\n",
       "      <td>5</td>\n",
       "      <td>195</td>\n",
       "      <td>6</td>\n",
       "      <td>0</td>\n",
       "      <td>1</td>\n",
       "      <td>0</td>\n",
       "      <td>support</td>\n",
       "      <td>low</td>\n",
       "      <td>...</td>\n",
       "      <td>0</td>\n",
       "      <td>0</td>\n",
       "      <td>0</td>\n",
       "      <td>0</td>\n",
       "      <td>0</td>\n",
       "      <td>0</td>\n",
       "      <td>0</td>\n",
       "      <td>0</td>\n",
       "      <td>1</td>\n",
       "      <td>0</td>\n",
       "    </tr>\n",
       "  </tbody>\n",
       "</table>\n",
       "<p>5 rows × 23 columns</p>\n",
       "</div>"
      ],
      "text/plain": [
       "   satisfaction_level  last_evaluation  number_project  average_montly_hours  \\\n",
       "0                0.85             0.90               5                   202   \n",
       "1                0.12             0.60               2                   194   \n",
       "2                0.40             0.47               2                   136   \n",
       "3                0.47             0.55               4                   122   \n",
       "4                0.89             0.65               5                   195   \n",
       "\n",
       "   time_spend_company  Work_accident  left  promotion_last_5years      sales  \\\n",
       "0                   3              0     0                      0         IT   \n",
       "1                   4              0     0                      0  technical   \n",
       "2                   3              0     1                      0         hr   \n",
       "3                   5              1     0                      0  marketing   \n",
       "4                   6              0     1                      0    support   \n",
       "\n",
       "   salary  ...  sales_IT  sales_RandD  sales_accounting  sales_hr  \\\n",
       "0     low  ...         1            0                 0         0   \n",
       "1  medium  ...         0            0                 0         0   \n",
       "2  medium  ...         0            0                 0         1   \n",
       "3  medium  ...         0            0                 0         0   \n",
       "4     low  ...         0            0                 0         0   \n",
       "\n",
       "   sales_management  sales_marketing  sales_product_mng  sales_sales  \\\n",
       "0                 0                0                  0            0   \n",
       "1                 0                0                  0            0   \n",
       "2                 0                0                  0            0   \n",
       "3                 0                1                  0            0   \n",
       "4                 0                0                  0            0   \n",
       "\n",
       "   sales_support  sales_technical  \n",
       "0              0                0  \n",
       "1              0                1  \n",
       "2              0                0  \n",
       "3              0                0  \n",
       "4              1                0  \n",
       "\n",
       "[5 rows x 23 columns]"
      ]
     },
     "execution_count": 8,
     "metadata": {},
     "output_type": "execute_result"
    }
   ],
   "source": [
    "dataset.head()"
   ]
  },
  {
   "cell_type": "markdown",
   "metadata": {},
   "source": [
    "Store feature columns (all columns except 'left', 'sales' and 'salary') to a new variable **X**. Here `left` is the class variable.\n",
    "\n",
    "Store column(s) to be predicted into a new variable **y**."
   ]
  },
  {
   "cell_type": "code",
   "execution_count": 9,
   "metadata": {},
   "outputs": [],
   "source": [
    "# Add code below this comment (Question #E106)\n",
    "# ---------------------------\n",
    "\n",
    "X = dataset.drop(['left', 'sales', 'salary'], axis=1)\n",
    "\n",
    "y = dataset.left\n"
   ]
  },
  {
   "cell_type": "markdown",
   "metadata": {},
   "source": [
    "Create train/validate split (20% validation ratio) and use variable names: **X_train, X_test, y_train, y_test**."
   ]
  },
  {
   "cell_type": "code",
   "execution_count": 10,
   "metadata": {},
   "outputs": [],
   "source": [
    "# Add code below this comment (Question #E107)\n",
    "# ---------------------------\n",
    "\n",
    "X_train, X_test, y_train, y_test = train_test_split(X, y, test_size=0.2)\n",
    "\n",
    "\n"
   ]
  },
  {
   "cell_type": "markdown",
   "metadata": {},
   "source": [
    "# Feature selection and evaluation\n",
    "\n",
    "In this section you could make use of any method so far introduced or provided by sklearn for **feature selection**.\n",
    "\n",
    "Steps:\n",
    "1. Initialize a feature selector\n",
    "2. Fit feature selector on training set\n",
    "3. Print indices of features selected, the \"support\".\n",
    "4. Train a Gaussian Naive Bayes model on selected features from training set.\n",
    "5. Evaluate the model by measuring its accuracy on the test set.\n",
    "\n",
    "Please **briefly answer the 2 questions** at the end of this section; use evidence printed from your code as appropiate to support your answer. \n",
    "\n",
    "It is not required but if you are comparing different feature selection methods,\n",
    "please add new notebook cells for each method."
   ]
  },
  {
   "cell_type": "code",
   "execution_count": 11,
   "metadata": {},
   "outputs": [
    {
     "data": {
      "text/plain": [
       "array([1.81535117e+02, 4.48445122e-02, 3.72329462e+00, 7.94896891e+02,\n",
       "       1.56525975e+02, 2.51281160e+02, 4.78547228e+01, 1.61801609e+02,\n",
       "       1.21291796e+02, 3.75952950e+01, 6.37107974e-01, 2.80140334e+01,\n",
       "       4.04950887e+00, 1.07948130e+01, 2.27176338e+01, 6.14596997e-02,\n",
       "       2.89620782e+00, 4.43749081e-02, 1.58555395e+00, 5.10618897e+00])"
      ]
     },
     "execution_count": 11,
     "metadata": {},
     "output_type": "execute_result"
    }
   ],
   "source": [
    "# Add code below this comment (Question #E108)\n",
    "# ---------------------------\n",
    "\n",
    "# Using the chi-squared selector. Starting with k=5 but may adjust\n",
    "selector = SelectKBest(score_func=chi2, k=3)\n",
    "\n",
    "# Fitting a model and checking the scores\n",
    "selector.fit(X_train, y_train)\n",
    "selector.scores_\n"
   ]
  },
  {
   "cell_type": "code",
   "execution_count": 12,
   "metadata": {},
   "outputs": [
    {
     "name": "stdout",
     "output_type": "stream",
     "text": [
      "Selected indices:  [0 3 5]\n"
     ]
    }
   ],
   "source": [
    "print(\"Selected indices: \", selector.get_support(True))"
   ]
  },
  {
   "cell_type": "code",
   "execution_count": 13,
   "metadata": {},
   "outputs": [],
   "source": [
    "# Create the selected train/test sets\n",
    "\n",
    "X_train_selected = selector.transform(X_train)\n",
    "X_test_selected = selector.transform(X_test)"
   ]
  },
  {
   "cell_type": "code",
   "execution_count": 14,
   "metadata": {},
   "outputs": [
    {
     "data": {
      "text/plain": [
       "0.7803333333333333"
      ]
     },
     "execution_count": 14,
     "metadata": {},
     "output_type": "execute_result"
    }
   ],
   "source": [
    "# Creating a Gaussian model for both the feature selection and without to see how we improve\n",
    "\n",
    "model = GaussianNB()\n",
    "model.fit(X_train_selected, y_train)\n",
    "model.score(X_test_selected, y_test)"
   ]
  },
  {
   "cell_type": "code",
   "execution_count": 15,
   "metadata": {},
   "outputs": [
    {
     "data": {
      "text/plain": [
       "0.6456666666666667"
      ]
     },
     "execution_count": 15,
     "metadata": {},
     "output_type": "execute_result"
    }
   ],
   "source": [
    "# Now without feature selection\n",
    "\n",
    "model = GaussianNB()\n",
    "model.fit(X_train, y_train)\n",
    "model.score(X_test, y_test)"
   ]
  },
  {
   "cell_type": "markdown",
   "metadata": {},
   "source": [
    "Keeping track of a few k features\n",
    "\n",
    "1 - 0.761\n",
    "2 - 0.781\n",
    "3 - 0.789\n",
    "4 - 0.758\n",
    "5 - 0.773\n"
   ]
  },
  {
   "cell_type": "markdown",
   "metadata": {},
   "source": [
    "How many number of features did you finally choose? Why?"
   ]
  },
  {
   "cell_type": "raw",
   "metadata": {},
   "source": [
    "# Add your answer below this comment (Question #E109)\n",
    "# -----------------------------------\n",
    "\n",
    "After running several tests with 1 - 5 k features, I came to the conclusion that 3 was the best number of features to land on. With 3 I was able to score from train/test 0.789 accuracy. After running through and moving up the accuracy began to fall indicating that the return on investment of additional features in the model after 3 was no longer positive.\n",
    "\n"
   ]
  },
  {
   "cell_type": "markdown",
   "metadata": {},
   "source": [
    "# Feature extraction\n",
    "\n",
    "In this section you could use **Principle Component Analysis** or **Factor Analysis** for feature extraction.\n",
    "\n",
    "Steps:\n",
    "1. Initialize either PCA or FactorAnalysis\n",
    "2. Fit feature extractor on training set.\n",
    "4. Train a Gaussian Naive Bayes model on selected features from training set.\n",
    "5. Evaluate the model by measuring its accuracy on the test set."
   ]
  },
  {
   "cell_type": "code",
   "execution_count": 16,
   "metadata": {},
   "outputs": [],
   "source": [
    "# Add code below this comment (Question #E110)\n",
    "# ---------------------------\n",
    "\n",
    "pca = PCA(n_components=5)\n",
    "pca.fit(X_train, y_train)\n",
    "\n",
    "X_pca_train_selected = pca.transform(X_train)\n",
    "X_pca_test_selected = pca.transform(X_test)\n",
    "\n"
   ]
  },
  {
   "cell_type": "code",
   "execution_count": 17,
   "metadata": {},
   "outputs": [
    {
     "data": {
      "text/plain": [
       "0.7856666666666666"
      ]
     },
     "execution_count": 17,
     "metadata": {},
     "output_type": "execute_result"
    }
   ],
   "source": [
    "model = GaussianNB()\n",
    "model.fit(X_pca_train_selected, y_train)\n",
    "model.score(X_pca_test_selected, y_test)"
   ]
  },
  {
   "cell_type": "markdown",
   "metadata": {},
   "source": [
    "Similar to above, tracking 1-X PCA for accuracy to choose best number of principal components\n",
    "\n",
    "1 - 0.762\n",
    "2 - 0.782\n",
    "3 - 0.772\n",
    "4 - 0.777\n",
    "5 - 0.776\n",
    "6 - 0.776\n",
    "\n",
    "10 - 0.744"
   ]
  },
  {
   "cell_type": "markdown",
   "metadata": {},
   "source": [
    "Create a scree plot of **explained variance ratio** for extracted features."
   ]
  },
  {
   "cell_type": "code",
   "execution_count": 18,
   "metadata": {
    "scrolled": true
   },
   "outputs": [
    {
     "data": {
      "text/plain": [
       "[<matplotlib.lines.Line2D at 0x7f536cd474e0>]"
      ]
     },
     "execution_count": 18,
     "metadata": {},
     "output_type": "execute_result"
    },
    {
     "data": {
      "image/png": "[encoded data removed]",
      "text/plain": [
       "<Figure size 432x288 with 1 Axes>"
      ]
     },
     "metadata": {
      "needs_background": "light"
     },
     "output_type": "display_data"
    }
   ],
   "source": [
    "# Add code below this comment (Question #E111)\n",
    "# ---------------------------\n",
    "\n",
    "x_ticks = np.arange(len(pca.components_))+1\n",
    "plt.xticks(x_ticks) # this enforces integers on the x-axis\n",
    "\n",
    "# Complete code below this comment for PCA (Question #P109)\n",
    "# ----------------------------------\n",
    "plt.plot(x_ticks, pca.explained_variance_)\n",
    "\n"
   ]
  },
  {
   "cell_type": "markdown",
   "metadata": {},
   "source": [
    "Do you think this feature extraction method performed satisfactorily?\n",
    "How does it compare to feature selection methods in terms of effectiveness?"
   ]
  },
  {
   "cell_type": "raw",
   "metadata": {},
   "source": [
    "# Add your answer below this comment (Question #E112)\n",
    "# -----------------------------------\n",
    "\n",
    "I believe it performed well enough, however the feature selection model with 3 features selected was the best performing model, which would lead me to say that feature selection (3) is the better model for this particular dataset.\n",
    "\n"
   ]
  },
  {
   "cell_type": "markdown",
   "metadata": {},
   "source": [
    "How would you explain the features you have extracted to somebody without a data science background if you were to recommend this method?\n",
    "(short answer)"
   ]
  },
  {
   "cell_type": "raw",
   "metadata": {},
   "source": [
    "# Add your answer below this comment (Question #E113)\n",
    "# -----------------------------------\n",
    "\n",
    "Unlike feature selection methods which tell you which features (i.e. columns) in the dataset best represent variability, feature extraction methods (i.e. PCA) reduce dimensionality of the dataset while maximizing the variability to help make predictions using larger data sets. This helps us make predictions on a larger set of data as we can reduce complexity in the model by using fewer principal components (features). Though there is more complex mathematics involved in PCA, it is very similar to feature selection, just providing more arbitrary variables to use for your model rather than directly using variables such as 'average_montly_hours' or 'satisfaction_level'.\n",
    "\n"
   ]
  },
  {
   "cell_type": "markdown",
   "metadata": {},
   "source": [
    "# Save your notebook!  Then `File > Close and Halt`"
   ]
  }
 ],
 "metadata": {
  "kernelspec": {
   "display_name": "Python 3",
   "language": "python",
   "name": "python3"
  },
  "language_info": {
   "codemirror_mode": {
    "name": "ipython",
    "version": 3
   },
   "file_extension": ".py",
   "mimetype": "text/x-python",
   "name": "python",
   "nbconvert_exporter": "python",
   "pygments_lexer": "ipython3",
   "version": "3.7.3"
  }
 },
 "nbformat": 4,
 "nbformat_minor": 4
}
